{
 "cells": [
  {
   "cell_type": "markdown",
   "id": "a3b226dc-bf33-475a-95cd-547e34e96855",
   "metadata": {},
   "source": [
    "# Configuring Camelot Python Library in a Local Environment\n",
    "\n",
    "This guide is intended for use in situations where you wish to work locally and are encountering installation issues with the Camelot library. It provides step-by-step instructions for setting up the Camelot Python library in a local environment using Anaconda.\n",
    "\n",
    "\n",
    "### Step 1. Create a New Environment\n",
    "Open Anaconda Prompt, create a new environment and activate it:\n",
    "```bash\n",
    "conda create -n your_env_name\n",
    "conda activate your_env_name\n",
    "```\n",
    "\n",
    "### Step 2. Install Jupyter Lab or Jupyter Notebook on your new environment\n",
    "\n",
    "You can install Jupyter Lab with this command:\n",
    "```python\n",
    "conda install -c conda-forge jupyterlab\n",
    "```\n",
    "\n",
    "Or alteratively Jupyter Notebook with the following command:\n",
    "```python\n",
    "conda install -c conda-forge notebook\n",
    "```\n",
    "\n",
    "### Step 3. Install the requirements \n",
    "\n",
    "Navigate to the directory where you have cloned the workshop folder and locate in the `2. Text information retrieval` folder. Your path may look like this:\n",
    "```bash\n",
    "cd C:\\Users\\dell\\Documents\\GitHub\\Taller_12_2023\\sessions\\2. Text information retrieval\n",
    "```\n",
    "Once there, install the requirements from the requirements.txt file:\n",
    "```bash\n",
    "pip install -r requirements.txt\n",
    "```\n",
    "\n",
    "### Step 4. Install Ghoostscript\n",
    "\n",
    "Install Ghostscript, which is required for Camelot to process PDF files. Camelot relies on Ghostscript for converting PDF pages to images as part of its parsing process. To install Ghoostscript, follow this steps:\n",
    "\n",
    "**4.1.** Download the Ghostscript installer for Windows 64-bit, typically available under the \"GNU Affero General Public License\". You can access the installer [here](https://www.ghostscript.com/download/gsdnld.html)\n",
    "\n",
    "**4.2.** Once donwloaded, execute the installer to install Ghostscript on your system. Take note to the path where Ghoostscript has been installed.\n",
    "\n",
    "### Step 5. Add Ghoostscript to Python PATH\n",
    "\n",
    "To ensure Camelot can access Ghostscript, add the `lib` and `bin` directories of Ghostscript to the Python PATH following these steps: \n",
    "\n",
    "**5.1.** Go to \"Edit the system environment variables\" ( \"Editar las variables de entorno del sistema\" in Spanish).\n",
    "\n",
    "**5.2.** Select \"Environment Variables\" (Variables del entorno in Spanish) under System Properties.\n",
    "\n",
    "**5.3.** In the \"System Variables\" (Variables del sistema in Spanish) section, click \"Edit\".\n",
    "\n",
    "**5.4.** Add the paths to the `lib` and `bin` directories of your Ghostscript installation. Typically, these are located in `C:\\Program Files\\gs\\gs[version]\\bin` and `C:\\Program Files\\gs\\gs[version]\\lib`. In the case of the bin path, you can simply write `bin_path` as a name, and and the bin path as path value. You can do the same for the lib path.  "
   ]
  }
 ],
 "metadata": {
  "kernelspec": {
   "display_name": "Python 3 (ipykernel)",
   "language": "python",
   "name": "python3"
  },
  "language_info": {
   "codemirror_mode": {
    "name": "ipython",
    "version": 3
   },
   "file_extension": ".py",
   "mimetype": "text/x-python",
   "name": "python",
   "nbconvert_exporter": "python",
   "pygments_lexer": "ipython3",
   "version": "3.11.5"
  }
 },
 "nbformat": 4,
 "nbformat_minor": 5
}
