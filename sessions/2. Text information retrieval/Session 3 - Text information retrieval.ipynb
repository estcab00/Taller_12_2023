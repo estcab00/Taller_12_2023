{
 "cells": [
  {
   "cell_type": "markdown",
   "id": "96871753-70a9-4890-a515-aa0098b18dfd",
   "metadata": {},
   "source": [
    "# TEXT INFORMATION RETRIEVAL"
   ]
  },
  {
   "cell_type": "markdown",
   "id": "1ddc0748-8944-4584-8814-1b1db9c86ec0",
   "metadata": {},
   "source": [
    "**¿Working on the cloud or locally?**\n",
    "\n",
    "In case you may prefer to use Google Colab you can access to a Colab adapted script [here](https://drive.google.com/drive/folders/14yPdrPUBHmmu9c9WGF8BLDcYc6sytyeQ?usp=sharing). Don't forget to log in with your PUCP account. Once logged, you may download the \"Sessions_Copy\" folder, unzip, and upload to your own Google Drive Unity. \n",
    "\n",
    "Otherwise, follow the instructions in Section 1. to work locally."
   ]
  },
  {
   "cell_type": "markdown",
   "id": "3ff1af08-25e1-41eb-8ae2-903550082e05",
   "metadata": {},
   "source": [
    "## 1. Installing Packages from a Requirements File in Anaconda Prompt\n",
    "\n",
    "To manage Python packages in an Anaconda environment, you often need to install multiple dependencies listed in a `requirements.txt` file. This file typically contains a list of packages and their versions, making it easier to set up an environment with all necessary dependencies. To install packages from a `requirements.txt` file using Anaconda Prompt, follow these steps:\n",
    "\n",
    "1. Open Anaconda Prompt.\n",
    "2. Navigate to the directory containing the `requirements.txt` file.\n",
    "3. Execute the command `pip install -r requirements.txt`.\n",
    "\n",
    "This process will install all the packages listed in the `requirements.txt` file in your current Anaconda environment.\n",
    "\n",
    "#### Example\n",
    "Suppose you have a `requirements.txt` file in the directory `C:\\Users\\YourUsername\\Documents\\MyProject`. Open Anaconda Prompt and run the following commands:\n",
    "\n",
    "```bash\n",
    "cd C:\\Users\\YourUsername\\Documents\\MyProject\n",
    "pip install -r requirements.txt\n",
    "```"
   ]
  },
  {
   "cell_type": "markdown",
   "id": "e493b8ed-727f-4809-821a-01b550710c20",
   "metadata": {},
   "source": [
    "## 2. Regular Expressions (Regex)"
   ]
  },
  {
   "cell_type": "markdown",
   "id": "c9077819-be21-470d-9172-67baabd5d4ae",
   "metadata": {},
   "source": [
    "Regular expressions, often shortened as \"Regex\" are sequences of characters used as a search pattern. They are extremely useful in text processing for various tasks including searching, replacing, and parsing large amounts of text. Regex patterns can include a variety of characters, each with specific meanings, to create complex search criteria.\n",
    "\n",
    "In text retrieval, Regex serves as a powerful tool for:\n",
    "\n",
    "1. **Searching Text**: Quickly find specific patterns within large text datasets.\n",
    "2. **Data Validation**: Ensure text data follows specific formats.\n",
    "3. **Text Manipulation**: Extract, modify, or remove certain parts of text based on pattern matching.\n",
    "4. **Complex Pattern Recognition**: Identify patterns that aren't easily matched with traditional string methods."
   ]
  },
  {
   "cell_type": "markdown",
   "id": "a513c24b-67a6-4694-bfa4-ad19433a7383",
   "metadata": {},
   "source": [
    "### 2.1. Literals\n",
    "\n",
    "Literals are basic characters that match exactly themselves in the text.\n",
    "\n",
    "| Literal | Description                      | Example   |\n",
    "|---------|----------------------------------|---------------------|\n",
    "| `a`     | Matches the character 'a'        | `a` in \"apple\"      |\n",
    "| `7`     | Matches the character '7'        | `7` in \"Agent 007\"  |\n",
    "| `X`     | Matches the character 'X'        | `X` in \"X-ray\"      |\n",
    "| `_`     | Matches the underscore character | `_` in \"first_name\" |"
   ]
  },
  {
   "cell_type": "code",
   "execution_count": 1,
   "id": "ac340607-40c8-43b4-9665-67eb72077291",
   "metadata": {},
   "outputs": [],
   "source": [
    "import re"
   ]
  },
  {
   "cell_type": "markdown",
   "id": "3b9ac77a-ce8c-4cf8-b52d-2dc68c1f366a",
   "metadata": {},
   "source": [
    "Let's see an example of `Literals` application."
   ]
  },
  {
   "cell_type": "code",
   "execution_count": 2,
   "id": "82f7eb7d-3862-4c83-af53-5094958274f1",
   "metadata": {},
   "outputs": [
    {
     "name": "stdout",
     "output_type": "stream",
     "text": [
      "['cat', 'cat']\n"
     ]
    }
   ],
   "source": [
    "# Sample text\n",
    "text = \"The cat chased the rat. A wildcat appeared.\"\n",
    "\n",
    "# Regex pattern\n",
    "pattern = r'cat'\n",
    "\n",
    "# Find all occurrences of 'cat'\n",
    "matches = re.findall(pattern, text)\n",
    "\n",
    "print(matches)"
   ]
  },
  {
   "cell_type": "markdown",
   "id": "b2f72157-08e4-47e7-be46-a78038e501ce",
   "metadata": {},
   "source": [
    "### 2.2. Types of characters\n",
    "\n",
    "We can match specific types of characets, such as digits, words, or whitespace. Below are some of the most commonly used character classes:\n",
    "\n",
    "| Character Class | Description                                  | Example              | Match               |\n",
    "|-----------------|----------------------------------------------|----------------------|---------------------|\n",
    "| `\\d`            | Matches any digit (equivalent to `[0-9]`)    | `\\d` in \"Room 101\"   | `1`, `0`, `1`       |\n",
    "| `\\D`            | Matches any non-digit                        | `\\D` in \"Room 101\"   | `R`, `o`, `o`, `m`, ` ` |\n",
    "| `\\w`            | Matches any word character (includes letters, digits, and underscores) | `\\w` in \"Python3\"  | `P`, `y`, `t`, `h`, `o`, `n`, `3` |\n",
    "| `\\W`            | Matches any non-word character               | `\\W` in \"Python3!\"   | `!`                 |\n",
    "| `\\s`            | Matches any whitespace character (spaces, tabs, line breaks) | `\\s` in \"Hello World\" | ` ` (space)         |\n",
    "| `\\S`            | Matches any non-whitespace character         | `\\S` in \" Hello \"    | `H`, `e`, `l`, `l`, `o` |\n"
   ]
  },
  {
   "cell_type": "markdown",
   "id": "302acbd7-864f-4130-baac-185a93abd7ca",
   "metadata": {},
   "source": [
    "Let's see an example of `Types of characters` application. Suppose you have a paragraph of text that includes several email addresses. You want to extract all the email addresses.\n"
   ]
  },
  {
   "cell_type": "code",
   "execution_count": 3,
   "id": "f4fcc4f0-bfaf-4d84-a316-97f465987bfb",
   "metadata": {},
   "outputs": [
    {
     "name": "stdout",
     "output_type": "stream",
     "text": [
      "['alice@example.com', 'bob@example.net', 'carol@example.org']\n"
     ]
    }
   ],
   "source": [
    "text = \"Our team members are: alice@example.com, bob@example.net, and carol@example.org.\"\n",
    "\n",
    "# Regex pattern\n",
    "pattern = r'\\w+@\\S+\\.\\w+'\n",
    "\n",
    "# Find all email addresses in the text\n",
    "email_addresses = re.findall(pattern, text)\n",
    "\n",
    "print(email_addresses)"
   ]
  },
  {
   "cell_type": "markdown",
   "id": "349bcda6-2c49-448b-8074-2bed61b8a52d",
   "metadata": {},
   "source": [
    "### 2.3. Character Classes\n",
    "\n",
    "Character classes match any one of a set of characters.\n",
    "\n",
    "\n",
    "| Character Class | Description                                        | Real-life Example         | Matches                 |\n",
    "|-----------------|----------------------------------------------------|---------------------------|-------------------------|\n",
    "| `[abc]`         | Matches any one character 'a', 'b', or 'c'         | `b` in \"bracket\"          | `b`, `a`, `c`           |\n",
    "| `[a-z]`         | Matches any one lowercase letter                   | `e` in \"Email\"            | `m`, `a`, `i`, `l`      |\n",
    "| `[A-Z]`         | Matches any one uppercase letter                   | `S` in \"SQLite\"           |  `S`, `Q`, `L`          |\n",
    "| `[0-9]`         | Matches any one digit                              | `5` in \"Order 5 items\"    | `5`                     |\n",
    "| `[^abc]`        | Matches any one character except 'a', 'b', 'c'     | `d` in \"bread\"            | `r`, `e`, `d`           |"
   ]
  },
  {
   "cell_type": "markdown",
   "id": "53aeca5c-2cf2-4393-a7b3-8a04b6a8b2f5",
   "metadata": {},
   "source": [
    "Now let's see an example of `Character Classes`. Suppose you have a text and you want to extract only the words that start with a specific set of letters. For instance, extracting words that start with either 'a', 'b', or 'c'.\n"
   ]
  },
  {
   "cell_type": "code",
   "execution_count": 4,
   "id": "f09cd969-b37b-436f-ae61-13ae1641f0c3",
   "metadata": {},
   "outputs": [
    {
     "name": "stdout",
     "output_type": "stream",
     "text": [
      "['analyst', 'coordinator']\n"
     ]
    }
   ],
   "source": [
    "# Sample text\n",
    "text = \"Our team members have the following positions: analyst, developer, coordinator, manager.\"\n",
    "\n",
    "# Regex pattern\n",
    "pattern = r'\\b[abc]\\w*'\n",
    "\n",
    "# Find all words that start with 'a', 'b', or 'c'\n",
    "words = re.findall(pattern, text)\n",
    "\n",
    "print(words)"
   ]
  },
  {
   "cell_type": "markdown",
   "id": "be613715-2bf3-483a-ba15-db2c6de14c43",
   "metadata": {},
   "source": [
    "### 2.4. Quantifiers\n",
    "\n",
    "Quantifiers specify how many instances of a character or group must be present for a match.\n",
    "\n",
    "| Quantifier | Description                                           | Example                  | Match                  |\n",
    "|------------|-------------------------------------------------------|--------------------------|------------------------|\n",
    "| `*`        | Matches 0 or more repetitions of the preceding element | `bo*` in \"A ghost booooed\" | `boooo`               |\n",
    "| `+`        | Matches 1 or more repetitions of the preceding element | `e+` in \"Reeeally\"       | `eee`                  |\n",
    "| `?`        | Matches 0 or 1 repetition of the preceding element     | `https?` in \"http or https\" | `http`, `https`     |\n",
    "| `{n}`      | Matches exactly n repetitions of the preceding element | `l{2}` in \"Hello\"        | `ll`                   |\n",
    "| `{n,}`     | Matches n or more repetitions of the preceding element | `o{2,}` in \"Goood\"       | `ooo`                  |\n",
    "| `{n,m}`    | Matches between n and m repetitions of the preceding element | `e{1,3}` in \"Speech\"   | `ee`                  |\n"
   ]
  },
  {
   "cell_type": "markdown",
   "id": "c2b1f59c-341a-4d78-b858-9daac66428e3",
   "metadata": {},
   "source": [
    "Now, let's see a `Quantifiers` application example. Suppose you need to validate passwords to ensure they meet specific criteria: they must contain at least 8 characters and include one or more digits."
   ]
  },
  {
   "cell_type": "code",
   "execution_count": 5,
   "id": "ade1331a-415c-4e56-8473-9635431cba56",
   "metadata": {},
   "outputs": [
    {
     "name": "stdout",
     "output_type": "stream",
     "text": [
      "Valid passwords: ['MoreThan8Chars1']\n"
     ]
    }
   ],
   "source": [
    "# Sample text\n",
    "passwords = [ \"P@ssw0rd\", \"MoreThan8Chars1\", \"Short7\", \"NoDigits\" ]\n",
    "\n",
    "# Regex pattern\n",
    "pattern = r'\\w{8,}\\d+'\n",
    "\n",
    "# Validate each password\n",
    "valid_passwords = [ pwd for pwd in passwords if re.search(pattern, pwd) ]\n",
    "\n",
    "print( \"Valid passwords:\", valid_passwords )"
   ]
  },
  {
   "cell_type": "markdown",
   "id": "d0c2bab8-3061-4f4f-b731-d823856cd85e",
   "metadata": {},
   "source": [
    "### 2.5. Groups and Capturing\n",
    "\n",
    "Groups are portions of the regex enclosed in parentheses `()`. They are used to capture the part of the string that matches the group.\n",
    "\n",
    "| Group Syntax      | Description                           | Real-life Example          | Match           |\n",
    "|-------------------|---------------------------------------|----------------------------|-----------------|\n",
    "| `(abc)`           | Captures the match of 'abc'           | `(abc)` in \"1,2,abc,4\"     | `abc`           |\n",
    "| `(a\\|b)`          | Captures either 'a' or 'b'            | `(cat\\|dog)` in \"I have a cat\" | `cat`      |\n",
    "| `(abc)?`          | Captures 0 or 1 occurrence of 'abc'   | `(abc)?` in \"abcde\"        | `abc`           |\n",
    "| `(abc){2}`        | Captures exactly 2 consecutive 'abc'  | `(abc){2}` in \"abcabc123\"  | `abcabc`        |\n",
    "| `(abc)(def)`      | Captures 'abc' followed by 'def'      | `(abc)(def)` in \"abcdef\"   | `abcdef`       |\n"
   ]
  },
  {
   "cell_type": "markdown",
   "id": "f223f1e6-d655-4524-9639-1b482b65aee1",
   "metadata": {},
   "source": [
    "Now, let's see an application example for `Groups and Capturing`. Imagine you have a text with dates in the format 'YYYY-MM-DD', and you need to extract the year, month, and day components separately."
   ]
  },
  {
   "cell_type": "code",
   "execution_count": 7,
   "id": "d1867028-8a52-44ab-85fb-cb6da902f457",
   "metadata": {},
   "outputs": [
    {
     "name": "stdout",
     "output_type": "stream",
     "text": [
      "Captured date components: [('2023', '03', '15'), ('2023', '03', '20')]\n"
     ]
    }
   ],
   "source": [
    "# Sample text\n",
    "text = \"The event is scheduled on 2023-03-15 and ends on 2023-03-20.\"\n",
    "\n",
    "# Regex pattern\n",
    "pattern = r'(\\d{4})-(\\d{2})-(\\d{2})'\n",
    "\n",
    "# Find all date components in the text\n",
    "dates = re.findall(pattern, text)\n",
    "\n",
    "print(\"Captured date components:\", dates)"
   ]
  },
  {
   "cell_type": "markdown",
   "id": "84a66ee3-8728-4810-b44a-3412e76b60c3",
   "metadata": {},
   "source": [
    "For more detailed information and interactive examples on regular expressions, you can visit the Regex101 website. [Click here](https://regex101.com/)."
   ]
  },
  {
   "cell_type": "markdown",
   "id": "836f5076-1e2d-447c-b9cb-25a7abbbafd3",
   "metadata": {},
   "source": [
    "## 3. Text retrieval with PyPDF2"
   ]
  },
  {
   "cell_type": "markdown",
   "id": "32746bfb-7ff8-4bac-868f-143474574b5a",
   "metadata": {},
   "source": [
    "`PyPDF2` is a Python library specifically tailored for extracting information from PDF documents. It simplifies the task of retrieving text and metadata. Now, we'll explore PyPDF2 for PDF text extraction. We'll begin with extracting text from a single PDF."
   ]
  },
  {
   "cell_type": "code",
   "execution_count": 3,
   "id": "43e3bfd9-bb6f-4d08-975f-99411c425fd9",
   "metadata": {},
   "outputs": [],
   "source": [
    "from PyPDF2 import PdfReader\n",
    "import os\n",
    "import glob\n",
    "import pandas as pd\n",
    "import re"
   ]
  },
  {
   "cell_type": "code",
   "execution_count": 4,
   "id": "629ac49c-f419-4365-b332-dc932889d6ce",
   "metadata": {},
   "outputs": [
    {
     "name": "stdout",
     "output_type": "stream",
     "text": [
      "Text successfully extracted\n"
     ]
    }
   ],
   "source": [
    "pdf_path = '../data/Part_I/Congressional_Bills/pdf_docs/PL06712202320.pdf'\n",
    "reader   = PdfReader( pdf_path )\n",
    "n_pages  = len( reader.pages )\n",
    "\n",
    "try:\n",
    "    extracted_text = [ reader.pages[ i ].extract_text() for i in range( n_pages ) ]\n",
    "    print( 'Text successfully extracted' )\n",
    "\n",
    "except:\n",
    "    extracted_text = []\n",
    "    print( 'Text not found' )"
   ]
  },
  {
   "cell_type": "markdown",
   "id": "54a73ade-34d9-4943-a885-174b73a13eab",
   "metadata": {},
   "source": [
    "Once extracted, we can access to number of pages"
   ]
  },
  {
   "cell_type": "code",
   "execution_count": 5,
   "id": "828fc7ff-971e-48e3-b695-8dd20e22428f",
   "metadata": {},
   "outputs": [
    {
     "name": "stdout",
     "output_type": "stream",
     "text": [
      "Number of pages: 10\n"
     ]
    }
   ],
   "source": [
    "print( f'Number of pages: { n_pages }' )"
   ]
  },
  {
   "cell_type": "markdown",
   "id": "51343298-9344-42f6-a6de-7d4acde5df9b",
   "metadata": {},
   "source": [
    "We can access to the extracted text as well. We can start showing text for the first two pages."
   ]
  },
  {
   "cell_type": "code",
   "execution_count": 5,
   "id": "92d2ffb8-4665-46bb-9a44-a3116fd4be5b",
   "metadata": {
    "collapsed": true,
    "jupyter": {
     "outputs_hidden": true
    }
   },
   "outputs": [
    {
     "data": {
      "text/plain": [
       "['Proyecto de Ley N°  67/212023-\\nCONGRESO \\nRE PÚBLICA \\nCONORE39 Ot LA NEA,U8tAA \\n• ANEA DE TRAIIIll DOCUMENTAIJO SEGUNDO T. QUIROZ BARBOZA \\n\"Decenio de la Igualdad de oportunidades para mujeres y hombres\" \\n-Año del Fortalecimiento de la Soberanía Nacional\" \\nPROYECTO DE LEY QUE IMPULSA LA \\nASIGNACION DE USO TEMPORAL O DEFINITIVO \\nDE BIENES Y VEHICULOS DECOMISADOS, \\nINCAUTADOS O BAJO EXTINCIÓN DE DOMINIO A \\nFAVOR DEL SERVICIO DE SEGURIDAD \\nCIUDADANA \\nA iniciativa del Congresista de la República SEGUNDO QUIROZ BARBOZA, Miembro \\nde la bancada BLOQUE MAGISTERIAL DE CONCERTACIÓN NACIONAL, y en \\nejercicio del derecho de reforma constitucional que le confiere el Artículo 107° de la \\nConstitución Política del Perú; y de conformidad con lo dispuesto en los Artículos 67°, \\n74°, 75° y 76° del Reglamento del Congreso de la República del Perú, presenta el \\nsiguiente Proyecto de reforma constitucional: \\n\"LEY QUE IMPULSA LA ASIGNACION DE USO TEMPORAL O DEFINITIVO DE \\nBIENES Y VEHICULOS DECOMISADOS, INCAUTADOS O BAJO EXTINCIÓN DE \\nDOMINIO A FAVOR DEL SERVICIO DE SEGURIDAD CIUDADANA\" \\nArtículo 1. Objeto de la Ley \\nEl objeto del proyecto de ley es establecer un marco normativo que facilite y agilice la \\nasignación de uso definitivo o temporal de bienes y vehículos decomisados, incautados \\no declarados en extinción de dominio, en favor del servicio de seguridad ciudadana de \\nlas Municipalidades Distritales y Provinciales. \\nArtículo 2. Ámbito de aplicación \\nLa presente ley se aplica a todos los bienes y vehículos que hayan sido objeto de \\ndecomiso, incautación o de extinción de dominio de acuerdo con las normativas \\nvigentes. Asimismo, se establece que las Municipalidades Distritales y Provinciales en \\ntodo el país tienen la facultad de solicitar la asignación de uso definitivo o temporal de \\nestos bienes y vehículos administrados por el Programa Nacional de Bienes Incautados \\n(Pronabi). \\nArtículo 3. Coordinación y cooperación \\nEl Programa Nacional de Bienes Incautados (Pronabi) en coordinación con la Dirección \\nGeneral de Seguridad Ciudadana garantizaran la correcta implementación de esta ley, \\ny brindaran procedimientos rápidos y eficaces para la debida gestión y asignamiento de \\nlos bienes y vehículos solicitados por parte de los servicios de seguridad ciudadana de \\nlas Municipalidades Distritales y Provinciales. \\n',\n",
       " 'PERÚ \\nCONGRESO \\nREPÚBLICA SEGUNDO T. QUIROZ BARBOZA \\n\\'Decenio de la Igualdad de oportunidades para mujeres y hombres\" \\n—Año del Fortalecimiento de la Soberanía Nacionar \\nArtículo 4. Criterios para el asignamiento \\nLos bienes o vehículos decomisados o incautados, así como aquellos sujetos \\ndeclarados en extinción de dominio, deberán ser asignados de forma prioritaria a las \\nMunicipalidades Distritales y Provinciales bajo los siguientes criterios: \\na) Necesidad y urgencia: Se considerará la urgencia y necesidad de contar con \\nestos activos para fortalecer el servicio de seguridad ciudadana en cada \\nlocalidad. Se dará prioridad a aquellos casos en los que exista una necesidad \\ninmediata de recursos adicionales para enfrentar situaciones de riesgo o \\nemergencias. \\nb) índices de criminalidad: Las municipalidades con mayores índices de \\ncriminalidad o problemas de seguridad deberán recibir una asignación prioritaria \\nde bienes y vehículos para abordar esas situaciones. \\nc) Recursos disponibles: Se puede considerar la disponibilidad de recursos y la \\ncapacidad de las municipalidades para utilizar y mantener los bienes o vehículos \\nasignados. \\nd) Capacidad operativa: Las municipalidades que demuestren una mayor \\ncapacidad operativa para utilizar los activos de manera efectiva y eficiente \\npodrían recibir una asignación prioritaria. \\ne) Viabilidad: Se evaluará la viabilidad de los bienes y vehículos para su utilización \\npor parte de las municipalidades. Esto implica analizar su estado de \\nconservación, funcionalidad y capacidad de contribuir efectivamente a las \\nlabores de seguridad ciudadana. \\nf) Naturaleza y características: Se considerará la naturaleza y características de \\nlos bienes y vehículos, asegurándose de que sean apropiados y útiles para el \\nservicio de seguridad ciudadana. \\nArtículo 5. Fines del asignamiento \\n5.1. Los bienes y vehículos asignados deben ser utilizados para fortalecer las \\ncapacidades operativas y logísticas del servicio de seguridad ciudadana, incluyendo el \\nequipamiento, la infraestructura, el patrullaje y la respuesta rápida ante situaciones de \\nemergencia. \\n5.2. Los gobiernos locales destinaran los bienes y vehículos asignados de acuerdo con \\nlas necesidades y prioridades establecidas en sus planes de seguridad ciudadana. \\nArtículo 6. Control y seguimiento \\n6.1. Las Municipalidades Distritales y Provinciales deberán llevar un registro detallado \\nde los bienes y vehículos asignados, incluyendo su estado, uso y mantenimiento. \\n6.2. La Contraloría General de la República debe realizar auditorías periódicas para \\nverificar el cumplimiento de las disposiciones establecidas en la presente ley y garantizar \\nla correcta utilización de los bienes y vehículos asignados. \\n2 \\n']"
      ]
     },
     "execution_count": 5,
     "metadata": {},
     "output_type": "execute_result"
    }
   ],
   "source": [
    "extracted_text[ : 2 ]"
   ]
  },
  {
   "cell_type": "markdown",
   "id": "af081aee-da8f-451d-9984-30e649b5463e",
   "metadata": {},
   "source": [
    "We can combine text for all the pages"
   ]
  },
  {
   "cell_type": "code",
   "execution_count": 6,
   "id": "bb04a84b-dad2-4adf-947d-77681fb71170",
   "metadata": {
    "collapsed": true,
    "jupyter": {
     "outputs_hidden": true
    }
   },
   "outputs": [
    {
     "data": {
      "text/plain": [
       "'Proyecto de Ley N°  67/212023-\\nCONGRESO \\nRE PÚBLICA \\nCONORE39 Ot LA NEA,U8tAA \\n• ANEA DE TRAIIIll DOCUMENTAIJO SEGUNDO T. QUIROZ BARBOZA \\n\"Decenio de la Igualdad de oportunidades para mujeres y hombres\" \\n-Año del Fortalecimiento de la Soberanía Nacional\" \\nPROYECTO DE LEY QUE IMPULSA LA \\nASIGNACION DE USO TEMPORAL O DEFINITIVO \\nDE BIENES Y VEHICULOS DECOMISADOS, \\nINCAUTADOS O BAJO EXTINCIÓN DE DOMINIO A \\nFAVOR DEL SERVICIO DE SEGURIDAD \\nCIUDADANA \\nA iniciativa del Congresista de la República SEGUNDO QUIROZ BARBOZA, Miembro \\nde la bancada BLOQUE MAGISTERIAL DE CONCERTACIÓN NACIONAL, y en \\nejercicio del derecho de reforma constitucional que le confiere el Artículo 107° de la \\nConstitución Política del Perú; y de conformidad con lo dispuesto en los Artículos 67°, \\n74°, 75° y 76° del Reglamento del Congreso de la República del Perú, presenta el \\nsiguiente Proyecto de reforma constitucional: \\n\"LEY QUE IMPULSA LA ASIGNACION DE USO TEMPORAL O DEFINITIVO DE \\nBIENES Y VEHICULOS DECOMISADOS, INCAUTADOS O BAJO EXTINCIÓN DE \\nDOMINIO A FAVOR DEL SERVICIO DE SEGURIDAD CIUDADANA\" \\nArtículo 1. Objeto de la Ley \\nEl objeto del proyecto de ley es establecer un marco normativo que facilite y agilice la \\nasignación de uso definitivo o temporal de bienes y vehículos decomisados, incautados \\no declarados en extinción de dominio, en favor del servicio de seguridad ciudadana de \\nlas Municipalidades Distritales y Provinciales. \\nArtículo 2. Ámbito de aplicación \\nLa presente ley se aplica a todos los bienes y vehículos que hayan sido objeto de \\ndecomiso, incautación o de extinción de dominio de acuerdo con las normativas \\nvigentes. Asimismo, se establece que las Municipalidades Distritales y Provinciales en \\ntodo el país tienen la facultad de solicitar la asignación de uso definitivo o temporal de \\nestos bienes y vehículos administrados por el Programa Nacional de Bienes Incautados \\n(Pronabi). \\nArtículo 3. Coordinación y cooperación \\nEl Programa Nacional de Bienes Incautados (Pronabi) en coordinación con la Dirección \\nGeneral de Seguridad Ciudadana garantizaran la correcta implementación de esta ley, \\ny brindaran procedimientos rápidos y eficaces para la debida gestión y asignamiento de \\nlos bienes y vehículos solicitados por parte de los servicios de seguridad ciudadana de \\nlas Municipalidades Distritales y Provinciales. \\n\\nPERÚ \\nCONGRESO \\nREPÚBLICA SEGUNDO T. QUIROZ BARBOZA \\n\\'Decenio de la Igualdad de oportunidades para mujeres y hombres\" \\n—Año del Fortalecimiento de la Soberanía Nacionar \\nArtículo 4. Criterios para el asignamiento \\nLos bienes o vehículos decomisados o incautados, así como aquellos sujetos \\ndeclarados en extinción de dominio, deberán ser asignados de forma prioritaria a las \\nMunicipalidades Distritales y Provinciales bajo los siguientes criterios: \\na) Necesidad y urgencia: Se considerará la urgencia y necesidad de contar con \\nestos activos para fortalecer el servicio de seguridad ciudadana en cada \\nlocalidad. Se dará prioridad a aquellos casos en los que exista una necesidad \\ninmediata de recursos adicionales para enfrentar situaciones de riesgo o \\nemergencias. \\nb) índices de criminalidad: Las municipalidades con mayores índices de \\ncriminalidad o problemas de seguridad deberán recibir una asignación prioritaria \\nde bienes y vehículos para abordar esas situaciones. \\nc) Recursos disponibles: Se puede considerar la disponibilidad de recursos y la \\ncapacidad de las municipalidades para utilizar y mantener los bienes o vehículos \\nasignados. \\nd) Capacidad operativa: Las municipalidades que demuestren una mayor \\ncapacidad operativa para utilizar los activos de manera efectiva y eficiente \\npodrían recibir una asignación prioritaria. \\ne) Viabilidad: Se evaluará la viabilidad de los bienes y vehículos para su utilización \\npor parte de las municipalidades. Esto implica analizar su estado de \\nconservación, funcionalidad y capacidad de contribuir efectivamente a las \\nlabores de seguridad ciudadana. \\nf) Naturaleza y características: Se considerará la naturaleza y características de \\nlos bienes y vehículos, asegurándose de que sean apropiados y útiles para el \\nservicio de seguridad ciudadana. \\nArtículo 5. Fines del asignamiento \\n5.1. Los bienes y vehículos asignados deben ser utilizados para fortalecer las \\ncapacidades operativas y logísticas del servicio de seguridad ciudadana, incluyendo el \\nequipamiento, la infraestructura, el patrullaje y la respuesta rápida ante situaciones de \\nemergencia. \\n5.2. Los gobiernos locales destinaran los bienes y vehículos asignados de acuerdo con \\nlas necesidades y prioridades establecidas en sus planes de seguridad ciudadana. \\nArtículo 6. Control y seguimiento \\n6.1. Las Municipalidades Distritales y Provinciales deberán llevar un registro detallado \\nde los bienes y vehículos asignados, incluyendo su estado, uso y mantenimiento. \\n6.2. La Contraloría General de la República debe realizar auditorías periódicas para \\nverificar el cumplimiento de las disposiciones establecidas en la presente ley y gara'"
      ]
     },
     "execution_count": 6,
     "metadata": {},
     "output_type": "execute_result"
    }
   ],
   "source": [
    "combined_text = '\\n'.join( extracted_text )\n",
    "combined_text[ : 5000 ]"
   ]
  },
  {
   "cell_type": "markdown",
   "id": "c32e1179-e87e-4ec3-adb7-ebb1716738be",
   "metadata": {},
   "source": [
    "We can access to specific sections. Here, we'll attempt to retrieve information from Article 1."
   ]
  },
  {
   "cell_type": "code",
   "execution_count": 7,
   "id": "5c385b69-8f44-4e29-b724-65c41607feea",
   "metadata": {},
   "outputs": [
    {
     "data": {
      "text/plain": [
       "'El objeto del proyecto de ley es establecer un marco normativo que facilite y agilice la \\nasignación de uso definitivo o temporal de bienes y vehículos decomisados, incautados \\no declarados en extinción de dominio, en favor del servicio de seguridad ciudadana de \\nlas Municipalidades Distritales y Provinciales.'"
      ]
     },
     "execution_count": 7,
     "metadata": {},
     "output_type": "execute_result"
    }
   ],
   "source": [
    "start_pattern = r'Art(í|i)culo 1\\. Objeto de la Ley'\n",
    "end_pattern   = r'Art(í|i)culo 2.'\n",
    "\n",
    "start_match   = re.search( start_pattern, combined_text, re.IGNORECASE )\n",
    "end_match     = re.search( end_pattern, combined_text[ start_match.end(): ], re.IGNORECASE )\n",
    "\n",
    "end_index     = start_match.end() + end_match.start()\n",
    "article_text  = combined_text[ start_match.end(): end_index ].strip()\n",
    "\n",
    "article_text"
   ]
  },
  {
   "cell_type": "markdown",
   "id": "c440535b-a156-418e-b9bc-d2a30c6ce083",
   "metadata": {},
   "source": [
    "Now we'll access to two sections: \"Fórmula Legal\" and \"Artículo 1\". "
   ]
  },
  {
   "cell_type": "code",
   "execution_count": 10,
   "id": "a27a9caf-fe03-4477-a70e-470bc2f054e2",
   "metadata": {},
   "outputs": [],
   "source": [
    "def extract_two_sections( combined_text, start_pattern, end_pattern ):\n",
    "\n",
    "    start_match    = re.search( start_pattern, combined_text, re.IGNORECASE )\n",
    "    end_match      = re.search( end_pattern, combined_text[ start_match.end(): ], re.IGNORECASE )\n",
    "    \n",
    "    end_index      = start_match.end() + end_match.start()\n",
    "    extracted_text = combined_text[ start_match.end(): end_index ].strip()\n",
    "\n",
    "    return extracted_text"
   ]
  },
  {
   "cell_type": "code",
   "execution_count": 11,
   "id": "a3986f73-0105-4870-9069-8c62999d9516",
   "metadata": {},
   "outputs": [],
   "source": [
    "patterns = [\n",
    "    { 'start': r'Art(í|i)culo (1|PRIMERO)\\. Objeto de la Ley', 'end': r'Art(í|i)culo (2|SEGUNDO).', 'section': 'Artículo 1' },\n",
    "    { 'start': r'(Ley que|F(ó|o)rmula legal)', 'end': r'Art(í|i)culo (1|PRIMERO)\\.', 'section': 'Formula legal' }\n",
    "]"
   ]
  },
  {
   "cell_type": "code",
   "execution_count": 12,
   "id": "f92fee83-f07d-42e2-adb2-4186b45bfd8e",
   "metadata": {},
   "outputs": [
    {
     "data": {
      "text/html": [
       "<div>\n",
       "<style scoped>\n",
       "    .dataframe tbody tr th:only-of-type {\n",
       "        vertical-align: middle;\n",
       "    }\n",
       "\n",
       "    .dataframe tbody tr th {\n",
       "        vertical-align: top;\n",
       "    }\n",
       "\n",
       "    .dataframe thead th {\n",
       "        text-align: right;\n",
       "    }\n",
       "</style>\n",
       "<table border=\"1\" class=\"dataframe\">\n",
       "  <thead>\n",
       "    <tr style=\"text-align: right;\">\n",
       "      <th></th>\n",
       "      <th>Sección</th>\n",
       "      <th>Texto</th>\n",
       "    </tr>\n",
       "  </thead>\n",
       "  <tbody>\n",
       "    <tr>\n",
       "      <th>0</th>\n",
       "      <td>Artículo 1</td>\n",
       "      <td>El objeto del proyecto de ley es establecer un...</td>\n",
       "    </tr>\n",
       "    <tr>\n",
       "      <th>1</th>\n",
       "      <td>Formula legal</td>\n",
       "      <td>IMPULSA LA \\nASIGNACION DE USO TEMPORAL O DEFI...</td>\n",
       "    </tr>\n",
       "  </tbody>\n",
       "</table>\n",
       "</div>"
      ],
      "text/plain": [
       "         Sección                                              Texto\n",
       "0     Artículo 1  El objeto del proyecto de ley es establecer un...\n",
       "1  Formula legal  IMPULSA LA \\nASIGNACION DE USO TEMPORAL O DEFI..."
      ]
     },
     "execution_count": 12,
     "metadata": {},
     "output_type": "execute_result"
    }
   ],
   "source": [
    "results = []\n",
    "\n",
    "for pattern in patterns:\n",
    "    \n",
    "    section_text = extract_two_sections( combined_text, pattern[ 'start' ], pattern[ 'end' ] )\n",
    "    results.append( {'Sección': pattern[ 'section' ], 'Texto': section_text } )\n",
    "\n",
    "df = pd.DataFrame( results )\n",
    "df"
   ]
  },
  {
   "cell_type": "markdown",
   "id": "8a7872a5-158d-4b5b-bd9c-807f023886df",
   "metadata": {},
   "source": [
    "We can redefine this function to work with multiple pdf files"
   ]
  },
  {
   "cell_type": "code",
   "execution_count": 14,
   "id": "17524566-8735-4530-b9e8-1e84894802fd",
   "metadata": {},
   "outputs": [],
   "source": [
    "def extract_section_text( pdf_files, start_pattern, end_pattern ):\n",
    "    \n",
    "    '''\n",
    "    Extracts specific sections of text from a list of PDF files.\n",
    "\n",
    "    Parameters:\n",
    "        - pdf_files (list)    : A list of paths to the PDF files.\n",
    "        - start_pattern (str) : The regex pattern marking the beginning \n",
    "                                of the desired text section.\n",
    "        - end_pattern (str)   : The regex pattern marking the end of the \n",
    "                                desired text section.\n",
    "\n",
    "    Returns:\n",
    "        - dict: A dictionary where each key is a PDF file path and the \n",
    "                value is the extracted text or an error message if the \n",
    "                pattern is not found.\n",
    "    '''\n",
    "    results = {}\n",
    "    \n",
    "    for pdf_file in pdf_files:\n",
    "        \n",
    "        reader        = PdfReader( pdf_file )\n",
    "        full_text     = [ page.extract_text() for page in reader.pages ]\n",
    "        combined_text = '\\n'.join( full_text )\n",
    "\n",
    "        start_match = re.search( start_pattern, combined_text, re.IGNORECASE )\n",
    "        if start_match:\n",
    "            end_match = re.search( end_pattern, combined_text[start_match.end(): ], re.IGNORECASE )\n",
    "            \n",
    "            if end_match:\n",
    "                end_index           = start_match.end() + end_match.start()\n",
    "                results[ pdf_file ] = combined_text[start_match.end() : end_index ].strip()\n",
    "            \n",
    "            else:\n",
    "                results[ pdf_file ] = 'End pattern not found.'\n",
    "        \n",
    "        else:\n",
    "            results[ pdf_file ] = 'Start pattern not found.'\n",
    "\n",
    "    return results"
   ]
  },
  {
   "cell_type": "markdown",
   "id": "29547e43-ee66-40ac-abd8-823e238945db",
   "metadata": {},
   "source": [
    "We define start and end patterns"
   ]
  },
  {
   "cell_type": "code",
   "execution_count": 20,
   "id": "dac29f41-37cc-4b6e-8705-5ffd474c37b0",
   "metadata": {},
   "outputs": [],
   "source": [
    "patterns = [\n",
    "    { 'start': r'Art(í|i)culo (1|PRIMERO|único)\\. Objeto de la Ley', 'end': r'Art(í|i)culo (2|SEGUNDO|10).', 'section': 'Artículo 1' },\n",
    "    { 'start': r'(Ley que|F(ó|o)rmula legal)', 'end': r'Art(í|i)culo (1|PRIMERO|único)\\.', 'section': 'Formula legal' }\n",
    "]"
   ]
  },
  {
   "cell_type": "markdown",
   "id": "4bc1de70-701b-4a59-9d33-9e70626f45c8",
   "metadata": {},
   "source": [
    "We finally apply the function:"
   ]
  },
  {
   "cell_type": "code",
   "execution_count": 21,
   "id": "070a39ae-5f0c-442f-8366-38a948bf9a2e",
   "metadata": {},
   "outputs": [],
   "source": [
    "pdf_files = glob.glob( '../data/Part_I/Congressional_Bills/pdf_docs/*.pdf' )"
   ]
  },
  {
   "cell_type": "code",
   "execution_count": 22,
   "id": "eb214997-7ce6-4631-875f-88d778e91a34",
   "metadata": {},
   "outputs": [
    {
     "data": {
      "text/html": [
       "<div>\n",
       "<style scoped>\n",
       "    .dataframe tbody tr th:only-of-type {\n",
       "        vertical-align: middle;\n",
       "    }\n",
       "\n",
       "    .dataframe tbody tr th {\n",
       "        vertical-align: top;\n",
       "    }\n",
       "\n",
       "    .dataframe thead th {\n",
       "        text-align: right;\n",
       "    }\n",
       "</style>\n",
       "<table border=\"1\" class=\"dataframe\">\n",
       "  <thead>\n",
       "    <tr style=\"text-align: right;\">\n",
       "      <th></th>\n",
       "      <th>Artículo 1</th>\n",
       "      <th>Formula legal</th>\n",
       "      <th>Proyecto de ley</th>\n",
       "    </tr>\n",
       "  </thead>\n",
       "  <tbody>\n",
       "    <tr>\n",
       "      <th>0</th>\n",
       "      <td>El objeto del proyecto de ley es establecer un...</td>\n",
       "      <td>IMPULSA LA \\nASIGNACION DE USO TEMPORAL O DEFI...</td>\n",
       "      <td>PL06712202320</td>\n",
       "    </tr>\n",
       "    <tr>\n",
       "      <th>1</th>\n",
       "      <td>La presente iniciativa legislativa tiene como ...</td>\n",
       "      <td>DECLARA DE \\nNECESIDAD PÚBLICA E INTERES \\nNAC...</td>\n",
       "      <td>PL06713202320</td>\n",
       "    </tr>\n",
       "    <tr>\n",
       "      <th>2</th>\n",
       "      <td>El objeto de la presente Ley es incorporar el ...</td>\n",
       "      <td>MODIFICA EL \\nCÓDIGO PENAL PARA GARANTIZAR EL ...</td>\n",
       "      <td>PL06714202320</td>\n",
       "    </tr>\n",
       "    <tr>\n",
       "      <th>3</th>\n",
       "      <td>Es objeto de la presente ley declarar el 21 de...</td>\n",
       "      <td>DECLARA EL \\n21 DE JUNIO DEL AÑO 1825 COMO \\nF...</td>\n",
       "      <td>PL06715202320</td>\n",
       "    </tr>\n",
       "    <tr>\n",
       "      <th>4</th>\n",
       "      <td>La presente ley tiene por objeto modificar el ...</td>\n",
       "      <td>MODIFICA ARTÍCULO 3 DE \\nLA LEY 29701, LEY QUE...</td>\n",
       "      <td>PL06716202320</td>\n",
       "    </tr>\n",
       "    <tr>\n",
       "      <th>5</th>\n",
       "      <td>La presente ley tiene por objeto modificar los...</td>\n",
       "      <td>MODIFICA LOS ARTÍCULOS 2 y 3 \\nLITERAL A) DEL ...</td>\n",
       "      <td>PL06717202320</td>\n",
       "    </tr>\n",
       "    <tr>\n",
       "      <th>6</th>\n",
       "      <td>La presente Ley, tiene por objeto, modificar l...</td>\n",
       "      <td>MODIFICA LOS \\nARTICULOS 131° Y 132° DEL CÓDIG...</td>\n",
       "      <td>PL06718202320</td>\n",
       "    </tr>\n",
       "    <tr>\n",
       "      <th>7</th>\n",
       "      <td>Start pattern not found.</td>\n",
       "      <td>ESTABLECE DISPOSICIONES PARA PREVENIR LA CORRU...</td>\n",
       "      <td>PL06719202320</td>\n",
       "    </tr>\n",
       "  </tbody>\n",
       "</table>\n",
       "</div>"
      ],
      "text/plain": [
       "                                          Artículo 1  \\\n",
       "0  El objeto del proyecto de ley es establecer un...   \n",
       "1  La presente iniciativa legislativa tiene como ...   \n",
       "2  El objeto de la presente Ley es incorporar el ...   \n",
       "3  Es objeto de la presente ley declarar el 21 de...   \n",
       "4  La presente ley tiene por objeto modificar el ...   \n",
       "5  La presente ley tiene por objeto modificar los...   \n",
       "6  La presente Ley, tiene por objeto, modificar l...   \n",
       "7                           Start pattern not found.   \n",
       "\n",
       "                                       Formula legal Proyecto de ley  \n",
       "0  IMPULSA LA \\nASIGNACION DE USO TEMPORAL O DEFI...   PL06712202320  \n",
       "1  DECLARA DE \\nNECESIDAD PÚBLICA E INTERES \\nNAC...   PL06713202320  \n",
       "2  MODIFICA EL \\nCÓDIGO PENAL PARA GARANTIZAR EL ...   PL06714202320  \n",
       "3  DECLARA EL \\n21 DE JUNIO DEL AÑO 1825 COMO \\nF...   PL06715202320  \n",
       "4  MODIFICA ARTÍCULO 3 DE \\nLA LEY 29701, LEY QUE...   PL06716202320  \n",
       "5  MODIFICA LOS ARTÍCULOS 2 y 3 \\nLITERAL A) DEL ...   PL06717202320  \n",
       "6  MODIFICA LOS \\nARTICULOS 131° Y 132° DEL CÓDIG...   PL06718202320  \n",
       "7  ESTABLECE DISPOSICIONES PARA PREVENIR LA CORRU...   PL06719202320  "
      ]
     },
     "execution_count": 22,
     "metadata": {},
     "output_type": "execute_result"
    }
   ],
   "source": [
    "df = pd.DataFrame()\n",
    "\n",
    "for pattern in patterns:\n",
    "    extracted_texts = extract_section_text( pdf_files, pattern[ 'start' ], pattern[ 'end' ] )\n",
    "    temp_df         = pd.DataFrame.from_dict( extracted_texts, orient = 'index', columns = [ pattern[ 'section' ] ] )\n",
    "    df = pd.concat( [ df, temp_df ], axis = 1 )\n",
    "\n",
    "df = df.reset_index()\n",
    "df['Proyecto de ley'] = df['index'].str.extract( r'\\\\(PL\\d+).pdf$' )\n",
    "df = df.drop( [ 'index' ], axis = 1 )\n",
    "df.to_excel( '../data/Part_I/Congressional_Bills/pdf_docs/bills.xlsx', index = False )\n",
    "df"
   ]
  },
  {
   "cell_type": "markdown",
   "id": "cf65f9b6-e6ce-4793-a260-31da5577aff6",
   "metadata": {},
   "source": [
    "# 4. Tables retrieval with Camelot"
   ]
  },
  {
   "cell_type": "markdown",
   "id": "78aaf2ca-cb4a-454a-8449-3468ae6a66c4",
   "metadata": {},
   "source": [
    "Camelot is a Python library for extracting tables from PDF files. It converts tables in PDFs into structured formats like pandas DataFrames, streamlining data analysis and processing tasks."
   ]
  },
  {
   "cell_type": "markdown",
   "id": "a8a336e4-c54a-48a9-9818-279761664432",
   "metadata": {},
   "source": [
    "### How Camelot Works\n",
    "\n",
    "Camelot reads PDF files and extracts tables from the pages you specify. The extraction process can be customized using different parameters and methods, allowing you to tailor the extraction to the specific layout of your PDF.\n",
    "\n",
    "### Main Function\n",
    "\n",
    "  - `read_pdf(filepath, pages='all', flavor='lattice', **kwargs)`\n",
    "\n",
    "### Main Parameters\n",
    "\n",
    "  - `filepath`: Path to the PDF file.\n",
    "  - `pages`: Pages to extract tables from ('all', '1', '1,2,3', '1-3', etc.).\n",
    "  - `flavor`: Extraction method ('lattice' or 'stream').\n",
    "\n",
    "### Flavors\n",
    "\n",
    "1. **Lattice**: Used when tables are enclosed within distinct borders. It's ideal for extracting data from grid-like tables.\n",
    "   - Relies on visible lines of the table.\n",
    "   - More accurate when the tables have clear demarcation lines.\n",
    "\n",
    "2. **Stream**: Best for tables without clear borders or where lines between cells aren't visible.\n",
    "   - Relies on the position of the text to determine cell boundaries.\n",
    "   - Useful when dealing with whitespace-separated columns.\n",
    "\n",
    "### Other Parameters\n",
    "\n",
    "- `strip_text`: Remove unwanted characters.\n",
    "- `line_scale`: Increase if tables have thin lines (Lattice only).\n",
    "- `shift_text`: Adjust when text is not aligned (Stream only).\n",
    "\n",
    "For further information click [here](https://camelot-py.readthedocs.io/en/master/user/advanced.html#specify-column-separators)\n",
    "\n",
    "In case you experience problems to import `camelot` library, follow the instruction in the \"Camelot settings\" notebook."
   ]
  },
  {
   "cell_type": "markdown",
   "id": "972901d2-0696-44f9-aafb-b36cb34f7543",
   "metadata": {},
   "source": [
    "## 4.1. Lattice flavor"
   ]
  },
  {
   "cell_type": "markdown",
   "id": "63bbfbc3-3805-4474-82ed-e85b3a018734",
   "metadata": {},
   "source": [
    "First, let's extract tables using `lattice` flavor."
   ]
  },
  {
   "cell_type": "code",
   "execution_count": 6,
   "id": "36fa7146-67fc-4257-a299-f70559a331a7",
   "metadata": {},
   "outputs": [],
   "source": [
    "import camelot"
   ]
  },
  {
   "cell_type": "code",
   "execution_count": 7,
   "id": "0cf76284-bb59-4647-bef5-07741eb856c3",
   "metadata": {},
   "outputs": [],
   "source": [
    "reader = camelot.read_pdf( '../data/Part_II/camelot/Lista-de-egresados-2021-1.pdf', pages = '1', flavor = 'lattice' )"
   ]
  },
  {
   "cell_type": "code",
   "execution_count": 8,
   "id": "5804bf64-f460-4760-83e9-599b5af3f2c5",
   "metadata": {},
   "outputs": [
    {
     "data": {
      "text/html": [
       "<div>\n",
       "<style scoped>\n",
       "    .dataframe tbody tr th:only-of-type {\n",
       "        vertical-align: middle;\n",
       "    }\n",
       "\n",
       "    .dataframe tbody tr th {\n",
       "        vertical-align: top;\n",
       "    }\n",
       "\n",
       "    .dataframe thead th {\n",
       "        text-align: right;\n",
       "    }\n",
       "</style>\n",
       "<table border=\"1\" class=\"dataframe\">\n",
       "  <thead>\n",
       "    <tr style=\"text-align: right;\">\n",
       "      <th></th>\n",
       "      <th>0</th>\n",
       "      <th>1</th>\n",
       "      <th>2</th>\n",
       "    </tr>\n",
       "  </thead>\n",
       "  <tbody>\n",
       "    <tr>\n",
       "      <th>0</th>\n",
       "      <td>Código\\nNombre\\nCarrera</td>\n",
       "      <td></td>\n",
       "      <td></td>\n",
       "    </tr>\n",
       "    <tr>\n",
       "      <th>1</th>\n",
       "      <td>19901171</td>\n",
       "      <td>OJEDA TUMPAY, CAROLINA MARGOT</td>\n",
       "      <td>PSICOLOGIA-PREGRADO ADULTO</td>\n",
       "    </tr>\n",
       "    <tr>\n",
       "      <th>2</th>\n",
       "      <td>20120377</td>\n",
       "      <td>FALCON CUYUTUPA, ANDREA ELIANA</td>\n",
       "      <td>DERECHO-PREGRADO EN EEGG O FORMACIÓN GENERAL</td>\n",
       "    </tr>\n",
       "    <tr>\n",
       "      <th>3</th>\n",
       "      <td>20130966</td>\n",
       "      <td>BEDRIÑANA MENDOZA, JOSE ANDRES</td>\n",
       "      <td>GESTIÓN-PREGRADO EN EEGG O FORMACIÓN GENERAL</td>\n",
       "    </tr>\n",
       "    <tr>\n",
       "      <th>4</th>\n",
       "      <td>20131294</td>\n",
       "      <td>UGAZ QUIÑONES, AARON ALEXIS</td>\n",
       "      <td>DERECHO-PREGRADO EN EEGG O FORMACIÓN GENERAL</td>\n",
       "    </tr>\n",
       "  </tbody>\n",
       "</table>\n",
       "</div>"
      ],
      "text/plain": [
       "                         0                               1  \\\n",
       "0  Código\\nNombre\\nCarrera                                   \n",
       "1                 19901171   OJEDA TUMPAY, CAROLINA MARGOT   \n",
       "2                 20120377  FALCON CUYUTUPA, ANDREA ELIANA   \n",
       "3                 20130966  BEDRIÑANA MENDOZA, JOSE ANDRES   \n",
       "4                 20131294     UGAZ QUIÑONES, AARON ALEXIS   \n",
       "\n",
       "                                              2  \n",
       "0                                                \n",
       "1                    PSICOLOGIA-PREGRADO ADULTO  \n",
       "2  DERECHO-PREGRADO EN EEGG O FORMACIÓN GENERAL  \n",
       "3  GESTIÓN-PREGRADO EN EEGG O FORMACIÓN GENERAL  \n",
       "4  DERECHO-PREGRADO EN EEGG O FORMACIÓN GENERAL  "
      ]
     },
     "execution_count": 8,
     "metadata": {},
     "output_type": "execute_result"
    }
   ],
   "source": [
    "table = reader[ 0 ].df\n",
    "table.head( 5 )"
   ]
  },
  {
   "cell_type": "markdown",
   "id": "364a2887-ba2b-478f-a2b0-d2449e086d58",
   "metadata": {},
   "source": [
    "Let's format this table"
   ]
  },
  {
   "cell_type": "code",
   "execution_count": 9,
   "id": "e5f45ee8-a98e-4517-9aee-534e933b7373",
   "metadata": {},
   "outputs": [
    {
     "data": {
      "text/html": [
       "<div>\n",
       "<style scoped>\n",
       "    .dataframe tbody tr th:only-of-type {\n",
       "        vertical-align: middle;\n",
       "    }\n",
       "\n",
       "    .dataframe tbody tr th {\n",
       "        vertical-align: top;\n",
       "    }\n",
       "\n",
       "    .dataframe thead th {\n",
       "        text-align: right;\n",
       "    }\n",
       "</style>\n",
       "<table border=\"1\" class=\"dataframe\">\n",
       "  <thead>\n",
       "    <tr style=\"text-align: right;\">\n",
       "      <th></th>\n",
       "      <th>Código</th>\n",
       "      <th>Nombre</th>\n",
       "      <th>Carrera</th>\n",
       "    </tr>\n",
       "  </thead>\n",
       "  <tbody>\n",
       "    <tr>\n",
       "      <th>0</th>\n",
       "      <td>19901171</td>\n",
       "      <td>OJEDA TUMPAY, CAROLINA MARGOT</td>\n",
       "      <td>PSICOLOGIA-PREGRADO ADULTO</td>\n",
       "    </tr>\n",
       "    <tr>\n",
       "      <th>1</th>\n",
       "      <td>20120377</td>\n",
       "      <td>FALCON CUYUTUPA, ANDREA ELIANA</td>\n",
       "      <td>DERECHO-PREGRADO EN EEGG O FORMACIÓN GENERAL</td>\n",
       "    </tr>\n",
       "    <tr>\n",
       "      <th>2</th>\n",
       "      <td>20130966</td>\n",
       "      <td>BEDRIÑANA MENDOZA, JOSE ANDRES</td>\n",
       "      <td>GESTIÓN-PREGRADO EN EEGG O FORMACIÓN GENERAL</td>\n",
       "    </tr>\n",
       "    <tr>\n",
       "      <th>3</th>\n",
       "      <td>20131294</td>\n",
       "      <td>UGAZ QUIÑONES, AARON ALEXIS</td>\n",
       "      <td>DERECHO-PREGRADO EN EEGG O FORMACIÓN GENERAL</td>\n",
       "    </tr>\n",
       "    <tr>\n",
       "      <th>4</th>\n",
       "      <td>20132069</td>\n",
       "      <td>FARJE CARDENAS, DAVID ALEJANDRO</td>\n",
       "      <td>PSICOLOGIA-PREGRADO EN EEGG O FORMACIÓN GENERAL</td>\n",
       "    </tr>\n",
       "  </tbody>\n",
       "</table>\n",
       "</div>"
      ],
      "text/plain": [
       "     Código                           Nombre  \\\n",
       "0  19901171    OJEDA TUMPAY, CAROLINA MARGOT   \n",
       "1  20120377   FALCON CUYUTUPA, ANDREA ELIANA   \n",
       "2  20130966   BEDRIÑANA MENDOZA, JOSE ANDRES   \n",
       "3  20131294      UGAZ QUIÑONES, AARON ALEXIS   \n",
       "4  20132069  FARJE CARDENAS, DAVID ALEJANDRO   \n",
       "\n",
       "                                           Carrera  \n",
       "0                       PSICOLOGIA-PREGRADO ADULTO  \n",
       "1     DERECHO-PREGRADO EN EEGG O FORMACIÓN GENERAL  \n",
       "2     GESTIÓN-PREGRADO EN EEGG O FORMACIÓN GENERAL  \n",
       "3     DERECHO-PREGRADO EN EEGG O FORMACIÓN GENERAL  \n",
       "4  PSICOLOGIA-PREGRADO EN EEGG O FORMACIÓN GENERAL  "
      ]
     },
     "execution_count": 9,
     "metadata": {},
     "output_type": "execute_result"
    }
   ],
   "source": [
    "new_headers   = table.iloc[ 0, 0 ].split( '\\n' )\n",
    "table.columns = new_headers\n",
    "table         = table.drop( 0 )\n",
    "table         = table.reset_index( drop = True )\n",
    "table.head( 5 )"
   ]
  },
  {
   "cell_type": "markdown",
   "id": "3ba49aa1-2dba-442f-820e-9e4280c5c1fa",
   "metadata": {},
   "source": [
    "We can read tables for all the PDF document"
   ]
  },
  {
   "cell_type": "code",
   "execution_count": 36,
   "id": "33bd44f1-5f85-4130-8771-ea6999501383",
   "metadata": {},
   "outputs": [],
   "source": [
    "def lattice_function( file, n_pages ):\n",
    "    \"\"\"\n",
    "    Objective: \n",
    "        - Read and concatenate tables from a PDF file using Camelot's lattice method.\n",
    "\n",
    "    Input:\n",
    "        - file (str): The path to the PDF file.\n",
    "        - n_pages (str): The page numbers or range to be processed (e.g., '1', '1,2,3', '1-end').\n",
    "\n",
    "    Returns:\n",
    "        - A DataFrame containing concatenated tables from the specified pages of the PDF.\n",
    "    Note:\n",
    "        - This function is specifically tailored for PDFs where the first row of the table on each page \n",
    "          contains column headers and all the tables have the same structure. \n",
    "    \"\"\"\n",
    "    \n",
    "    reader = camelot.read_pdf( file, pages = n_pages , flavor = 'lattice' )\n",
    "    # table  = reader[ 0 ].df\n",
    "    df_list = []\n",
    "    \n",
    "    for i in range( len( reader ) ):\n",
    "        df = reader[ i ].df\n",
    "        df_list.append( df )\n",
    "    \n",
    "    df_concat         = pd.concat( df_list, ignore_index = True )\n",
    "    new_headers       = df_concat.iloc[ 0, 0 ].split( '\\n' )\n",
    "    df_concat.columns = new_headers\n",
    "    df_concat         = df_concat.drop( 0 )\n",
    "    df_concat         = df_concat.reset_index( drop = True )\n",
    "    df_concat\n",
    "\n",
    "    return df_concat"
   ]
  },
  {
   "cell_type": "code",
   "execution_count": 37,
   "id": "c9c7a4d1-0915-4266-b08d-a37b96b4203b",
   "metadata": {},
   "outputs": [],
   "source": [
    "file    = '../data/Part_II/camelot/Lista-de-egresados-2021-1.pdf'\n",
    "n_pages = 'all'\n",
    "\n",
    "df = lattice_function( file, n_pages )\n",
    "df.to_excel( '../data/Part_II/camelot/egresados_2021_1.xlsx', index = False )"
   ]
  },
  {
   "cell_type": "code",
   "execution_count": 38,
   "id": "0231fd2d-dd6b-42bd-83b2-c3baec77fc0f",
   "metadata": {},
   "outputs": [
    {
     "data": {
      "text/html": [
       "<div>\n",
       "<style scoped>\n",
       "    .dataframe tbody tr th:only-of-type {\n",
       "        vertical-align: middle;\n",
       "    }\n",
       "\n",
       "    .dataframe tbody tr th {\n",
       "        vertical-align: top;\n",
       "    }\n",
       "\n",
       "    .dataframe thead th {\n",
       "        text-align: right;\n",
       "    }\n",
       "</style>\n",
       "<table border=\"1\" class=\"dataframe\">\n",
       "  <thead>\n",
       "    <tr style=\"text-align: right;\">\n",
       "      <th></th>\n",
       "      <th>Código</th>\n",
       "      <th>Nombre</th>\n",
       "      <th>Carrera</th>\n",
       "    </tr>\n",
       "  </thead>\n",
       "  <tbody>\n",
       "    <tr>\n",
       "      <th>0</th>\n",
       "      <td>19901171</td>\n",
       "      <td>OJEDA TUMPAY, CAROLINA MARGOT</td>\n",
       "      <td>PSICOLOGIA-PREGRADO ADULTO</td>\n",
       "    </tr>\n",
       "    <tr>\n",
       "      <th>1</th>\n",
       "      <td>20120377</td>\n",
       "      <td>FALCON CUYUTUPA, ANDREA ELIANA</td>\n",
       "      <td>DERECHO-PREGRADO EN EEGG O FORMACIÓN GENERAL</td>\n",
       "    </tr>\n",
       "    <tr>\n",
       "      <th>2</th>\n",
       "      <td>20130966</td>\n",
       "      <td>BEDRIÑANA MENDOZA, JOSE ANDRES</td>\n",
       "      <td>GESTIÓN-PREGRADO EN EEGG O FORMACIÓN GENERAL</td>\n",
       "    </tr>\n",
       "    <tr>\n",
       "      <th>3</th>\n",
       "      <td>20131294</td>\n",
       "      <td>UGAZ QUIÑONES, AARON ALEXIS</td>\n",
       "      <td>DERECHO-PREGRADO EN EEGG O FORMACIÓN GENERAL</td>\n",
       "    </tr>\n",
       "    <tr>\n",
       "      <th>4</th>\n",
       "      <td>20132069</td>\n",
       "      <td>FARJE CARDENAS, DAVID ALEJANDRO</td>\n",
       "      <td>PSICOLOGIA-PREGRADO EN EEGG O FORMACIÓN GENERAL</td>\n",
       "    </tr>\n",
       "    <tr>\n",
       "      <th>...</th>\n",
       "      <td>...</td>\n",
       "      <td>...</td>\n",
       "      <td>...</td>\n",
       "    </tr>\n",
       "    <tr>\n",
       "      <th>789</th>\n",
       "      <td>20200447</td>\n",
       "      <td>CHAVEZ MALAGA, DANIELA NAHIL</td>\n",
       "      <td>DERECHO-PREGRADO EN EEGG O FORMACIÓN GENERAL</td>\n",
       "    </tr>\n",
       "    <tr>\n",
       "      <th>790</th>\n",
       "      <td>20200675</td>\n",
       "      <td>IBERICO LOPEZ, MARIA FERNANDA</td>\n",
       "      <td>DERECHO-PREGRADO EN EEGG O FORMACIÓN GENERAL</td>\n",
       "    </tr>\n",
       "    <tr>\n",
       "      <th>791</th>\n",
       "      <td>20200697</td>\n",
       "      <td>DELGADO SECLEN, MARIA JOSE ALEXA</td>\n",
       "      <td>DERECHO-PREGRADO EN EEGG O FORMACIÓN GENERAL</td>\n",
       "    </tr>\n",
       "    <tr>\n",
       "      <th>792</th>\n",
       "      <td>20201008</td>\n",
       "      <td>CHAHUD MARTINEZ, SAID GUILLERMO</td>\n",
       "      <td>RR.INT.-PREGRADO EN EEGG O FORMACIÓN GENERAL</td>\n",
       "    </tr>\n",
       "    <tr>\n",
       "      <th>793</th>\n",
       "      <td>20203286</td>\n",
       "      <td>ROMERO ALVAREZ, JHOSELIN BRILLITH</td>\n",
       "      <td>DERECHO-PREGRADO EN EEGG O FORMACIÓN GENERAL</td>\n",
       "    </tr>\n",
       "  </tbody>\n",
       "</table>\n",
       "<p>794 rows × 3 columns</p>\n",
       "</div>"
      ],
      "text/plain": [
       "       Código                             Nombre  \\\n",
       "0    19901171      OJEDA TUMPAY, CAROLINA MARGOT   \n",
       "1    20120377     FALCON CUYUTUPA, ANDREA ELIANA   \n",
       "2    20130966     BEDRIÑANA MENDOZA, JOSE ANDRES   \n",
       "3    20131294        UGAZ QUIÑONES, AARON ALEXIS   \n",
       "4    20132069    FARJE CARDENAS, DAVID ALEJANDRO   \n",
       "..        ...                                ...   \n",
       "789  20200447       CHAVEZ MALAGA, DANIELA NAHIL   \n",
       "790  20200675      IBERICO LOPEZ, MARIA FERNANDA   \n",
       "791  20200697   DELGADO SECLEN, MARIA JOSE ALEXA   \n",
       "792  20201008    CHAHUD MARTINEZ, SAID GUILLERMO   \n",
       "793  20203286  ROMERO ALVAREZ, JHOSELIN BRILLITH   \n",
       "\n",
       "                                             Carrera  \n",
       "0                         PSICOLOGIA-PREGRADO ADULTO  \n",
       "1       DERECHO-PREGRADO EN EEGG O FORMACIÓN GENERAL  \n",
       "2       GESTIÓN-PREGRADO EN EEGG O FORMACIÓN GENERAL  \n",
       "3       DERECHO-PREGRADO EN EEGG O FORMACIÓN GENERAL  \n",
       "4    PSICOLOGIA-PREGRADO EN EEGG O FORMACIÓN GENERAL  \n",
       "..                                               ...  \n",
       "789     DERECHO-PREGRADO EN EEGG O FORMACIÓN GENERAL  \n",
       "790     DERECHO-PREGRADO EN EEGG O FORMACIÓN GENERAL  \n",
       "791     DERECHO-PREGRADO EN EEGG O FORMACIÓN GENERAL  \n",
       "792     RR.INT.-PREGRADO EN EEGG O FORMACIÓN GENERAL  \n",
       "793     DERECHO-PREGRADO EN EEGG O FORMACIÓN GENERAL  \n",
       "\n",
       "[794 rows x 3 columns]"
      ]
     },
     "execution_count": 38,
     "metadata": {},
     "output_type": "execute_result"
    }
   ],
   "source": [
    "df"
   ]
  },
  {
   "cell_type": "markdown",
   "id": "1ec7bdc0-1cd0-4f13-bbd3-b4da20924ef9",
   "metadata": {},
   "source": [
    "## 4.2. Stream flavor"
   ]
  },
  {
   "cell_type": "markdown",
   "id": "0cbef265-6ad1-4afc-bba6-4608b7dbf293",
   "metadata": {},
   "source": [
    "First, let's extract tables using `stream` flavor."
   ]
  },
  {
   "cell_type": "code",
   "execution_count": 52,
   "id": "2ad79f91-48df-48f9-909d-a5b7dde19115",
   "metadata": {},
   "outputs": [
    {
     "data": {
      "text/plain": [
       "1"
      ]
     },
     "execution_count": 52,
     "metadata": {},
     "output_type": "execute_result"
    }
   ],
   "source": [
    "reader = camelot.read_pdf( '../data/Part_II/camelot/pspl0320.pdf', pages = '8', flavor = 'stream' )\n",
    "len( reader )"
   ]
  },
  {
   "cell_type": "markdown",
   "id": "74215cdd-b4e1-4400-923c-603bfbdc9323",
   "metadata": {},
   "source": [
    "We can plot the specific text that `Stream` method identifies."
   ]
  },
  {
   "cell_type": "code",
   "execution_count": 53,
   "id": "adefa99d-e4d4-4b50-bb67-a92ab9c70b63",
   "metadata": {
    "scrolled": true
   },
   "outputs": [
    {
     "name": "stderr",
     "output_type": "stream",
     "text": [
      "C:\\Users\\dell\\AppData\\Local\\Temp\\ipykernel_11136\\3203909404.py:1: UserWarning: FigureCanvasAgg is non-interactive, and thus cannot be shown\n",
      "  camelot.plot( reader[ 0 ], kind = 'text' ).show()\n"
     ]
    },
    {
     "data": {
      "image/png": "[encoded data removed]",
      "text/plain": [
       "<Figure size 640x480 with 1 Axes>"
      ]
     },
     "metadata": {},
     "output_type": "display_data"
    }
   ],
   "source": [
    "camelot.plot( reader[ 0 ], kind = 'text' ).show()"
   ]
  },
  {
   "cell_type": "markdown",
   "id": "94e25df6-a155-48cf-b451-8f5d1b6f28e1",
   "metadata": {},
   "source": [
    "Now we take a look at the extracted table. We notice that we need to fix its structure."
   ]
  },
  {
   "cell_type": "code",
   "execution_count": 54,
   "id": "35f4fc3b-0082-4ea5-ab81-033481730569",
   "metadata": {},
   "outputs": [
    {
     "data": {
      "text/html": [
       "<div>\n",
       "<style scoped>\n",
       "    .dataframe tbody tr th:only-of-type {\n",
       "        vertical-align: middle;\n",
       "    }\n",
       "\n",
       "    .dataframe tbody tr th {\n",
       "        vertical-align: top;\n",
       "    }\n",
       "\n",
       "    .dataframe thead th {\n",
       "        text-align: right;\n",
       "    }\n",
       "</style>\n",
       "<table border=\"1\" class=\"dataframe\">\n",
       "  <thead>\n",
       "    <tr style=\"text-align: right;\">\n",
       "      <th></th>\n",
       "      <th>0</th>\n",
       "      <th>1</th>\n",
       "      <th>2</th>\n",
       "      <th>3</th>\n",
       "      <th>4</th>\n",
       "      <th>5</th>\n",
       "      <th>6</th>\n",
       "      <th>7</th>\n",
       "      <th>8</th>\n",
       "    </tr>\n",
       "  </thead>\n",
       "  <tbody>\n",
       "    <tr>\n",
       "      <th>0</th>\n",
       "      <td>State</td>\n",
       "      <td></td>\n",
       "      <td></td>\n",
       "      <td></td>\n",
       "      <td></td>\n",
       "      <td></td>\n",
       "      <td></td>\n",
       "      <td>Percent of</td>\n",
       "      <td></td>\n",
       "    </tr>\n",
       "    <tr>\n",
       "      <th>1</th>\n",
       "      <td></td>\n",
       "      <td>2018</td>\n",
       "      <td></td>\n",
       "      <td>2019</td>\n",
       "      <td></td>\n",
       "      <td>2020 1</td>\n",
       "      <td></td>\n",
       "      <td></td>\n",
       "      <td></td>\n",
       "    </tr>\n",
       "    <tr>\n",
       "      <th>2</th>\n",
       "      <td></td>\n",
       "      <td></td>\n",
       "      <td></td>\n",
       "      <td></td>\n",
       "      <td></td>\n",
       "      <td></td>\n",
       "      <td></td>\n",
       "      <td>previous year</td>\n",
       "      <td></td>\n",
       "    </tr>\n",
       "    <tr>\n",
       "      <th>3</th>\n",
       "      <td></td>\n",
       "      <td>(1,000 acres)</td>\n",
       "      <td></td>\n",
       "      <td>(1,000 acres)</td>\n",
       "      <td></td>\n",
       "      <td>(1,000 acres)</td>\n",
       "      <td></td>\n",
       "      <td>(percent)</td>\n",
       "      <td></td>\n",
       "    </tr>\n",
       "    <tr>\n",
       "      <th>4</th>\n",
       "      <td>Alabama 2  ............................</td>\n",
       "      <td></td>\n",
       "      <td>40</td>\n",
       "      <td></td>\n",
       "      <td>(NA)</td>\n",
       "      <td></td>\n",
       "      <td>(NA)</td>\n",
       "      <td></td>\n",
       "      <td>(X)</td>\n",
       "    </tr>\n",
       "  </tbody>\n",
       "</table>\n",
       "</div>"
      ],
      "text/plain": [
       "                                         0              1   2              3  \\\n",
       "0                                    State                                     \n",
       "1                                                    2018               2019   \n",
       "2                                                                              \n",
       "3                                           (1,000 acres)      (1,000 acres)   \n",
       "4  Alabama 2  ............................                 40                  \n",
       "\n",
       "      4              5     6              7    8  \n",
       "0                                Percent of       \n",
       "1               2020 1                            \n",
       "2                             previous year       \n",
       "3        (1,000 acres)            (percent)       \n",
       "4  (NA)                 (NA)                 (X)  "
      ]
     },
     "execution_count": 54,
     "metadata": {},
     "output_type": "execute_result"
    }
   ],
   "source": [
    "table = reader[ 0 ].df\n",
    "table.head( 5 )"
   ]
  },
  {
   "cell_type": "code",
   "execution_count": 55,
   "id": "2f178bad-bf44-4764-a1b7-fe2efe448db4",
   "metadata": {},
   "outputs": [
    {
     "data": {
      "text/html": [
       "<div>\n",
       "<style scoped>\n",
       "    .dataframe tbody tr th:only-of-type {\n",
       "        vertical-align: middle;\n",
       "    }\n",
       "\n",
       "    .dataframe tbody tr th {\n",
       "        vertical-align: top;\n",
       "    }\n",
       "\n",
       "    .dataframe thead th {\n",
       "        text-align: right;\n",
       "    }\n",
       "</style>\n",
       "<table border=\"1\" class=\"dataframe\">\n",
       "  <thead>\n",
       "    <tr style=\"text-align: right;\">\n",
       "      <th></th>\n",
       "      <th>State</th>\n",
       "      <th>2018</th>\n",
       "      <th>2019</th>\n",
       "      <th>2020</th>\n",
       "    </tr>\n",
       "  </thead>\n",
       "  <tbody>\n",
       "    <tr>\n",
       "      <th>3</th>\n",
       "      <td></td>\n",
       "      <td>(1,000 acres)</td>\n",
       "      <td>(1,000 acres)</td>\n",
       "      <td>(1,000 acres)</td>\n",
       "    </tr>\n",
       "    <tr>\n",
       "      <th>4</th>\n",
       "      <td>Alabama</td>\n",
       "      <td>40</td>\n",
       "      <td>(NA)</td>\n",
       "      <td>(NA)</td>\n",
       "    </tr>\n",
       "    <tr>\n",
       "      <th>5</th>\n",
       "      <td>Arkansas</td>\n",
       "      <td>10</td>\n",
       "      <td>5</td>\n",
       "      <td>8</td>\n",
       "    </tr>\n",
       "    <tr>\n",
       "      <th>6</th>\n",
       "      <td>California</td>\n",
       "      <td>110</td>\n",
       "      <td>75</td>\n",
       "      <td>75</td>\n",
       "    </tr>\n",
       "    <tr>\n",
       "      <th>7</th>\n",
       "      <td>Colorado</td>\n",
       "      <td>95</td>\n",
       "      <td>(NA)</td>\n",
       "      <td>(NA)</td>\n",
       "    </tr>\n",
       "    <tr>\n",
       "      <th>8</th>\n",
       "      <td>Georgia</td>\n",
       "      <td>60</td>\n",
       "      <td>70</td>\n",
       "      <td>70</td>\n",
       "    </tr>\n",
       "    <tr>\n",
       "      <th>9</th>\n",
       "      <td>Idaho</td>\n",
       "      <td>40</td>\n",
       "      <td>60</td>\n",
       "      <td>45</td>\n",
       "    </tr>\n",
       "    <tr>\n",
       "      <th>10</th>\n",
       "      <td>Illinois</td>\n",
       "      <td>40</td>\n",
       "      <td>70</td>\n",
       "      <td>100</td>\n",
       "    </tr>\n",
       "    <tr>\n",
       "      <th>11</th>\n",
       "      <td>Iowa</td>\n",
       "      <td>135</td>\n",
       "      <td>215</td>\n",
       "      <td>240</td>\n",
       "    </tr>\n",
       "    <tr>\n",
       "      <th>12</th>\n",
       "      <td>Kansas</td>\n",
       "      <td>120</td>\n",
       "      <td>120</td>\n",
       "      <td>170</td>\n",
       "    </tr>\n",
       "    <tr>\n",
       "      <th>13</th>\n",
       "      <td>Maine</td>\n",
       "      <td>21</td>\n",
       "      <td>22</td>\n",
       "      <td>22</td>\n",
       "    </tr>\n",
       "    <tr>\n",
       "      <th>14</th>\n",
       "      <td>M\\nichigan</td>\n",
       "      <td>75</td>\n",
       "      <td>70</td>\n",
       "      <td>60</td>\n",
       "    </tr>\n",
       "    <tr>\n",
       "      <th>15</th>\n",
       "      <td>Minnesota</td>\n",
       "      <td>180</td>\n",
       "      <td>240</td>\n",
       "      <td>250</td>\n",
       "    </tr>\n",
       "    <tr>\n",
       "      <th>16</th>\n",
       "      <td>Missouri</td>\n",
       "      <td>35</td>\n",
       "      <td>50</td>\n",
       "      <td>50</td>\n",
       "    </tr>\n",
       "    <tr>\n",
       "      <th>17</th>\n",
       "      <td>Montana</td>\n",
       "      <td>70</td>\n",
       "      <td>70</td>\n",
       "      <td>75</td>\n",
       "    </tr>\n",
       "    <tr>\n",
       "      <th>18</th>\n",
       "      <td>Nebraska</td>\n",
       "      <td>125</td>\n",
       "      <td>120</td>\n",
       "      <td>120</td>\n",
       "    </tr>\n",
       "    <tr>\n",
       "      <th>19</th>\n",
       "      <td>New York</td>\n",
       "      <td>69</td>\n",
       "      <td>56</td>\n",
       "      <td>59</td>\n",
       "    </tr>\n",
       "    <tr>\n",
       "      <th>20</th>\n",
       "      <td>North Carolina</td>\n",
       "      <td>30</td>\n",
       "      <td>22</td>\n",
       "      <td>28</td>\n",
       "    </tr>\n",
       "    <tr>\n",
       "      <th>21</th>\n",
       "      <td>North Dakota</td>\n",
       "      <td>300</td>\n",
       "      <td>355</td>\n",
       "      <td>320</td>\n",
       "    </tr>\n",
       "    <tr>\n",
       "      <th>22</th>\n",
       "      <td>Ohio</td>\n",
       "      <td>55</td>\n",
       "      <td>75</td>\n",
       "      <td>80</td>\n",
       "    </tr>\n",
       "    <tr>\n",
       "      <th>23</th>\n",
       "      <td>Oklahoma</td>\n",
       "      <td>50</td>\n",
       "      <td>100</td>\n",
       "      <td>90</td>\n",
       "    </tr>\n",
       "    <tr>\n",
       "      <th>24</th>\n",
       "      <td>O\\nregon</td>\n",
       "      <td>20</td>\n",
       "      <td>20</td>\n",
       "      <td>20</td>\n",
       "    </tr>\n",
       "    <tr>\n",
       "      <th>25</th>\n",
       "      <td>Pennsylvania</td>\n",
       "      <td>65</td>\n",
       "      <td>85</td>\n",
       "      <td>90</td>\n",
       "    </tr>\n",
       "    <tr>\n",
       "      <th>26</th>\n",
       "      <td>South Carolina</td>\n",
       "      <td>19</td>\n",
       "      <td>(NA)</td>\n",
       "      <td>(NA)</td>\n",
       "    </tr>\n",
       "    <tr>\n",
       "      <th>27</th>\n",
       "      <td>South Dakota</td>\n",
       "      <td>290</td>\n",
       "      <td>245</td>\n",
       "      <td>345</td>\n",
       "    </tr>\n",
       "    <tr>\n",
       "      <th>28</th>\n",
       "      <td>Texas</td>\n",
       "      <td>450</td>\n",
       "      <td>400</td>\n",
       "      <td>415</td>\n",
       "    </tr>\n",
       "    <tr>\n",
       "      <th>29</th>\n",
       "      <td>Washington</td>\n",
       "      <td>17</td>\n",
       "      <td>(NA)</td>\n",
       "      <td>(NA)</td>\n",
       "    </tr>\n",
       "    <tr>\n",
       "      <th>30</th>\n",
       "      <td>Wisconsin</td>\n",
       "      <td>200</td>\n",
       "      <td>265</td>\n",
       "      <td>280</td>\n",
       "    </tr>\n",
       "    <tr>\n",
       "      <th>31</th>\n",
       "      <td>Wyoming</td>\n",
       "      <td>25</td>\n",
       "      <td>(NA)</td>\n",
       "      <td>(NA)</td>\n",
       "    </tr>\n",
       "    <tr>\n",
       "      <th>32</th>\n",
       "      <td>U\\nnited States</td>\n",
       "      <td>2,746</td>\n",
       "      <td>2,810</td>\n",
       "      <td>3,012</td>\n",
       "    </tr>\n",
       "    <tr>\n",
       "      <th>33</th>\n",
       "      <td>(NA) Not available.</td>\n",
       "      <td></td>\n",
       "      <td></td>\n",
       "      <td></td>\n",
       "    </tr>\n",
       "  </tbody>\n",
       "</table>\n",
       "</div>"
      ],
      "text/plain": [
       "                  State           2018           2019           2020\n",
       "3                        (1,000 acres)  (1,000 acres)  (1,000 acres)\n",
       "4               Alabama             40           (NA)           (NA)\n",
       "5              Arkansas             10              5              8\n",
       "6            California            110             75             75\n",
       "7              Colorado             95           (NA)           (NA)\n",
       "8               Georgia             60             70             70\n",
       "9                 Idaho             40             60             45\n",
       "10             Illinois             40             70            100\n",
       "11                 Iowa            135            215            240\n",
       "12               Kansas            120            120            170\n",
       "13                Maine             21             22             22\n",
       "14           M\\nichigan             75             70             60\n",
       "15            Minnesota            180            240            250\n",
       "16             Missouri             35             50             50\n",
       "17              Montana             70             70             75\n",
       "18             Nebraska            125            120            120\n",
       "19             New York             69             56             59\n",
       "20       North Carolina             30             22             28\n",
       "21         North Dakota            300            355            320\n",
       "22                 Ohio             55             75             80\n",
       "23             Oklahoma             50            100             90\n",
       "24             O\\nregon             20             20             20\n",
       "25         Pennsylvania             65             85             90\n",
       "26       South Carolina             19           (NA)           (NA)\n",
       "27         South Dakota            290            245            345\n",
       "28                Texas            450            400            415\n",
       "29           Washington             17           (NA)           (NA)\n",
       "30            Wisconsin            200            265            280\n",
       "31              Wyoming             25           (NA)           (NA)\n",
       "32      U\\nnited States          2,746          2,810          3,012\n",
       "33  (NA) Not available.                                             "
      ]
     },
     "execution_count": 55,
     "metadata": {},
     "output_type": "execute_result"
    }
   ],
   "source": [
    "for year in range( 2018, 2021 ):\n",
    "    \n",
    "    col_indices          = [ ( year - 2018 ) * 2 + 1, ( year - 2018 ) * 2 + 2 ]\n",
    "    table[ str( year ) ] = table[ col_indices[ 0 ] ].astype( str ) + table[ col_indices[ 1 ] ].astype( str )\n",
    "    \n",
    "cols_to_drop = list( range( 1, 9 ) )\n",
    "table        = table.drop( columns = cols_to_drop )\n",
    "\n",
    "table            = table.rename( columns = { 0: 'State', 7: 'Percent of previous year' } )\n",
    "table            = table.drop( [ 0, 1, 2 ], axis = 0 )\n",
    "table[ 'State' ] = table[ 'State' ].str.replace( r'\\.{2,}', '', regex = True )\\\n",
    "                                   .str.replace(r'\\d+', '', regex = True)\\\n",
    "                                   .str.strip()\n",
    "table"
   ]
  },
  {
   "cell_type": "markdown",
   "id": "de34d386-069a-447b-bce4-e69efca7b830",
   "metadata": {},
   "source": [
    "We can use this base code to define a function that can be applied to other tables in this PDF file."
   ]
  },
  {
   "cell_type": "code",
   "execution_count": 67,
   "id": "f9179f64-1e5d-44f3-a567-ccaaad354310",
   "metadata": {},
   "outputs": [],
   "source": [
    "def stream_function( file, n_page ):\n",
    "\n",
    "    '''\n",
    "    Objective: \n",
    "    \n",
    "    - Extracts and processes table data from a specified page of a PDF file using the 'stream' \n",
    "      method from Camelot library.\n",
    "\n",
    "    Inputs:\n",
    "    \n",
    "    - file: A string representing the file path to the PDF document.\n",
    "    - n_page: A string or integer representing the page number to extract the table from.\n",
    "\n",
    "    Output:\n",
    "    \n",
    "    - A pandas DataFrame containing the processed table data. The DataFrame has specific columns\n",
    "      for each year (2018, 2019, 2020) and 'Percent of previous year' (if applicable), \n",
    "      along with a cleaned 'State' column.\n",
    "\n",
    "    Notes: \n",
    "    \n",
    "    - This function assumes a specific table structure and may need adjustments for \n",
    "      different table formats.\n",
    "    - This function works for tables that share format as tables present in pages 6, 8, 9, and\n",
    "      so on.\n",
    "    '''\n",
    "\n",
    "    reader = camelot.read_pdf( file, pages = n_page , flavor = 'stream' )        \n",
    "    table  = reader[ 0 ].df\n",
    "\n",
    "    for year in range( 2018, 2021 ):\n",
    "        \n",
    "        col_indices          = [ ( year - 2018 ) * 2 + 1, ( year - 2018 ) * 2 + 2 ]\n",
    "        table[ str( year ) ] = table[ col_indices[ 0 ] ].astype( str ) + table[ col_indices[ 1 ] ].astype( str )\n",
    "\n",
    "    if len( table.columns ) == 12:\n",
    "        \n",
    "        table[ 'Percent of previous year' ] = table[ 7 ].astype( str ) + table[ 8 ].astype( str )\n",
    "        final_col = 9\n",
    "        \n",
    "    else:\n",
    "        final_col = 7\n",
    "        \n",
    "    cols_to_drop = list( range( 1, final_col ) )\n",
    "    table        = table.drop( columns = cols_to_drop )\n",
    "    \n",
    "    table            = table.rename( columns = { 0: 'State', 7: 'Percent of previous year' } )\n",
    "    table            = table.drop( [ 0, 1, 2 ], axis = 0 )\n",
    "    table[ 'State' ] = table[ 'State' ].str.replace( r'\\.{2,}', '', regex = True )\\\n",
    "                                       .str.replace(r'\\d+', '', regex=True)\\\n",
    "                                       .str.strip()\n",
    "    \n",
    "    table            = table.reset_index( drop = True )\n",
    "    \n",
    "    column_name      = 'Percent of previous year'\n",
    "    column           = table.pop( column_name )\n",
    "    table.insert( 1, column_name, column )\n",
    "\n",
    "    return table"
   ]
  },
  {
   "cell_type": "code",
   "execution_count": 68,
   "id": "92788840-1d05-4f5f-8d9f-309fc4d5fdbb",
   "metadata": {},
   "outputs": [
    {
     "data": {
      "text/html": [
       "<div>\n",
       "<style scoped>\n",
       "    .dataframe tbody tr th:only-of-type {\n",
       "        vertical-align: middle;\n",
       "    }\n",
       "\n",
       "    .dataframe tbody tr th {\n",
       "        vertical-align: top;\n",
       "    }\n",
       "\n",
       "    .dataframe thead th {\n",
       "        text-align: right;\n",
       "    }\n",
       "</style>\n",
       "<table border=\"1\" class=\"dataframe\">\n",
       "  <thead>\n",
       "    <tr style=\"text-align: right;\">\n",
       "      <th></th>\n",
       "      <th>State</th>\n",
       "      <th>Percent of previous year</th>\n",
       "      <th>2018</th>\n",
       "      <th>2019</th>\n",
       "      <th>2020</th>\n",
       "    </tr>\n",
       "  </thead>\n",
       "  <tbody>\n",
       "    <tr>\n",
       "      <th>0</th>\n",
       "      <td></td>\n",
       "      <td>(percent)</td>\n",
       "      <td>(1,000 acres)</td>\n",
       "      <td>(1,000 acres)</td>\n",
       "      <td>(1,000 acres)</td>\n",
       "    </tr>\n",
       "    <tr>\n",
       "      <th>1</th>\n",
       "      <td>Arizona</td>\n",
       "      <td>147</td>\n",
       "      <td>74</td>\n",
       "      <td>34</td>\n",
       "      <td>50</td>\n",
       "    </tr>\n",
       "    <tr>\n",
       "      <th>2</th>\n",
       "      <td>California</td>\n",
       "      <td>83</td>\n",
       "      <td>45</td>\n",
       "      <td>30</td>\n",
       "      <td>25</td>\n",
       "    </tr>\n",
       "    <tr>\n",
       "      <th>3</th>\n",
       "      <td>Idaho</td>\n",
       "      <td>100</td>\n",
       "      <td>11</td>\n",
       "      <td>5</td>\n",
       "      <td>5</td>\n",
       "    </tr>\n",
       "    <tr>\n",
       "      <th>4</th>\n",
       "      <td>Montana</td>\n",
       "      <td>104</td>\n",
       "      <td>840</td>\n",
       "      <td>550</td>\n",
       "      <td>570</td>\n",
       "    </tr>\n",
       "    <tr>\n",
       "      <th>5</th>\n",
       "      <td>North Dakota</td>\n",
       "      <td>89</td>\n",
       "      <td>1,100</td>\n",
       "      <td>720</td>\n",
       "      <td>640</td>\n",
       "    </tr>\n",
       "    <tr>\n",
       "      <th>6</th>\n",
       "      <td>South Dakota</td>\n",
       "      <td>(X)</td>\n",
       "      <td>3</td>\n",
       "      <td>(NA)</td>\n",
       "      <td>(NA)</td>\n",
       "    </tr>\n",
       "    <tr>\n",
       "      <th>7</th>\n",
       "      <td>U\\nnited States</td>\n",
       "      <td>96</td>\n",
       "      <td>2,073</td>\n",
       "      <td>1,339</td>\n",
       "      <td>1,290</td>\n",
       "    </tr>\n",
       "    <tr>\n",
       "      <th>8</th>\n",
       "      <td>(NA) Not available.</td>\n",
       "      <td></td>\n",
       "      <td></td>\n",
       "      <td></td>\n",
       "      <td></td>\n",
       "    </tr>\n",
       "  </tbody>\n",
       "</table>\n",
       "</div>"
      ],
      "text/plain": [
       "                 State Percent of previous year           2018           2019  \\\n",
       "0                                     (percent)  (1,000 acres)  (1,000 acres)   \n",
       "1              Arizona                      147             74             34   \n",
       "2           California                       83             45             30   \n",
       "3                Idaho                      100             11              5   \n",
       "4              Montana                      104            840            550   \n",
       "5         North Dakota                       89          1,100            720   \n",
       "6         South Dakota                      (X)              3           (NA)   \n",
       "7      U\\nnited States                       96          2,073          1,339   \n",
       "8  (NA) Not available.                                                          \n",
       "\n",
       "            2020  \n",
       "0  (1,000 acres)  \n",
       "1             50  \n",
       "2             25  \n",
       "3              5  \n",
       "4            570  \n",
       "5            640  \n",
       "6           (NA)  \n",
       "7          1,290  \n",
       "8                 "
      ]
     },
     "execution_count": 68,
     "metadata": {},
     "output_type": "execute_result"
    }
   ],
   "source": [
    "file    = '../data/Part_II/camelot/pspl0320.pdf'\n",
    "n_page  = '12'\n",
    "\n",
    "df = stream_function( file, n_page )\n",
    "df.to_excel( f'../data/Part_II/camelot/extracted/pspl0320_p{ n_page }.xlsx' )\n",
    "df"
   ]
  }
 ],
 "metadata": {
  "kernelspec": {
   "display_name": "Python 3 (ipykernel)",
   "language": "python",
   "name": "python3"
  },
  "language_info": {
   "codemirror_mode": {
    "name": "ipython",
    "version": 3
   },
   "file_extension": ".py",
   "mimetype": "text/x-python",
   "name": "python",
   "nbconvert_exporter": "python",
   "pygments_lexer": "ipython3",
   "version": "3.11.5"
  }
 },
 "nbformat": 4,
 "nbformat_minor": 5
}
