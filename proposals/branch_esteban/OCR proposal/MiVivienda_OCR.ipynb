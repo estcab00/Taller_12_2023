{
 "cells": [
  {
   "cell_type": "markdown",
   "id": "8e43c813-ea3c-4580-a68f-4f655b001658",
   "metadata": {},
   "source": [
    "# MiVivienda_OCR"
   ]
  },
  {
   "cell_type": "markdown",
   "id": "c7630855-95f6-4038-bc2d-1a0f22db0db7",
   "metadata": {},
   "source": [
    "**Tema:** Extracción de Opiniones Vinculantes del Ministerio de Vivienda, Construcción y Saneamiento (MIVIVIENDA)\n",
    "\n",
    "**Objetivo:** Extraer e interpretar la información de las opiniones vinculantes por año publicadas en la página web de MIVIVIENDA. Sería interesante realizar un resumen de la opinión principal emitida en cada opinión vinculante y organizarla en carpetas.\n",
    "\n",
    "**Link:** https://ww3.vivienda.gob.pe/dv_/consultas-frecuentes.html\n",
    "\n",
    "### Author: Esteban Cabrera (esteban.cabrera@pucp.edu.pe)\n",
    "### January 2024"
   ]
  },
  {
   "cell_type": "markdown",
   "id": "9a833bf2-94df-41a6-b71b-e5da891e5a75",
   "metadata": {},
   "source": [
    "# Libraries"
   ]
  },
  {
   "cell_type": "code",
   "execution_count": 1,
   "id": "139ec6d8-4842-45ca-be1f-238e9605c16f",
   "metadata": {},
   "outputs": [],
   "source": [
    "from PyPDF2 import PdfReader\n",
    "import os\n",
    "import glob\n",
    "import pandas as pd\n",
    "import re"
   ]
  },
  {
   "cell_type": "code",
   "execution_count": 2,
   "id": "101cdfa8-ce95-4620-a7fd-6ba0f3a77967",
   "metadata": {},
   "outputs": [],
   "source": [
    "from PIL import Image\n",
    "from io import BytesIO\n",
    "import pytesseract\n",
    "# Specify the path where Tesseract-OCR was installed\n",
    "pytesseract.pytesseract.tesseract_cmd = r\"C:\\Program Files\\Tesseract-OCR\\tesseract.exe\"\n",
    "import pandas as pd\n",
    "import numpy as np\n",
    "import cv2\n",
    "import matplotlib.pyplot as plt\n",
    "from pytesseract import Output\n",
    "import re\n",
    "import glob\n",
    "import os\n",
    "import PIL.Image\n",
    "from PIL import Image\n",
    "from pdf2image import convert_from_path"
   ]
  },
  {
   "cell_type": "code",
   "execution_count": 3,
   "id": "1d52d172-14dd-4fba-833b-71174ffd61a0",
   "metadata": {},
   "outputs": [],
   "source": [
    "def convert_pdf_to_images( pdf_path, export_path, page_ranges ):\n",
    "    \"\"\"\n",
    "    Converts specified pages from a PDF file into images and saves them in a specified directory.\n",
    "\n",
    "    Input:\n",
    "    - pdf_path (str)    : Path to the PDF file.\n",
    "    - page_ranges (str) : Pages to be converted. Can be a single page (e.g., '5'),\n",
    "                          a range of pages (e.g., '5-10'), or multiple ranges \n",
    "                          (e.g., '5-10, 15-18'). Pages must be specified in an \n",
    "                          asceding numerical order. \n",
    "    - export_path (str) : Base directory path where the image folder will be created.\n",
    "\n",
    "    Output:\n",
    "    - Saves the extracted pages as images in a subfolder named after the PDF file \n",
    "      within the given export path. Each image is named according to its page number \n",
    "      (e.g., 'page_5.jpg').\n",
    "    \"\"\"\n",
    "\n",
    "    # Create a directory for the output images\n",
    "    base_name  = os.path.splitext( os.path.basename( pdf_path ) )[ 0 ]\n",
    "    output_dir = os.path.join( export_path, base_name )\n",
    "    if not os.path.exists( output_dir ):\n",
    "        os.makedirs( output_dir )\n",
    "\n",
    "    # Parse the page ranges\n",
    "    pages_to_convert = []\n",
    "    for part in page_ranges.split(','):\n",
    "        if '-' in part:\n",
    "            start, end = part.split( '-' )\n",
    "            pages_to_convert.extend( range( int( start ), int( end ) + 1 ) )\n",
    "        else:\n",
    "            pages_to_convert.append( int( part ) )\n",
    "\n",
    "    # Convert the specified pages\n",
    "    images = convert_from_path( pdf_path, first_page = min( pages_to_convert ), last_page = max( pages_to_convert ) )\n",
    "    \n",
    "    # Save the images\n",
    "    for i, page in enumerate( pages_to_convert, start = 1 ):\n",
    "        if i <= len( images ):\n",
    "            images[ i-1 ].save( os.path.join( output_dir, f'page_{page}.jpg' ), 'JPEG' )"
   ]
  },
  {
   "cell_type": "code",
   "execution_count": 4,
   "id": "7c8276dc-2880-4684-8828-af6fc62603ba",
   "metadata": {},
   "outputs": [],
   "source": [
    "def convert_images_to_text( input_path, export_path, lang = 'eng' ):\n",
    "    \"\"\"\n",
    "    Converts images in a given folder to text files using pytesseract and saves them in a new subfolder \n",
    "    within the export directory. The subfolder is named after the last directory in the input path.\n",
    "\n",
    "    Input:\n",
    "    - input_path (str) :  Base folder path where the images are located. \n",
    "                          We assume that all files are valid image files\n",
    "                          ( .jpg, .png or .jpeg )\n",
    "    - export_path (str) : Base folder path where the text files will be saved.\n",
    "    - lang (str)        : Language for pytesseract to use (default is English - 'eng').\n",
    "\n",
    "    Output:\n",
    "    - Creates a new subfolder in the export directory named after the last directory of the input path.\n",
    "      For each image in the input folder, a corresponding text file is created in this subfolder.\n",
    "    \"\"\"\n",
    "\n",
    "    # Get the last directory name from input_path\n",
    "    last_dir_name = os.path.basename( os.path.normpath( input_path ) )\n",
    "\n",
    "    # Create a new subdirectory in the export directory\n",
    "    new_export_path = os.path.join( export_path, last_dir_name )\n",
    "    if not os.path.exists( new_export_path ):\n",
    "        os.makedirs( new_export_path )\n",
    "\n",
    "    # Process each image in the input directory\n",
    "    for filename in os.listdir( input_path ):\n",
    "            \n",
    "        # Read the image and extract text\n",
    "        img_path = os.path.join( input_path, filename )\n",
    "        img      = Image.open( img_path )\n",
    "        text     = pytesseract.image_to_string( img, lang = lang )\n",
    "\n",
    "        # Save the extracted text to a .txt file in the new subdirectory\n",
    "        text_file_path = os.path.join( new_export_path, os.path.splitext( filename )[ 0 ] + '.txt' )\n",
    "        with open( text_file_path, 'w', encoding = 'utf-8' ) as file:\n",
    "            file.write( text )"
   ]
  },
  {
   "cell_type": "code",
   "execution_count": 5,
   "id": "96564c99-a20f-4c66-89f8-295d07afba7f",
   "metadata": {},
   "outputs": [],
   "source": [
    "def find_origin_section( text, start_pattern, end_pattern ):\n",
    "    \"\"\"\n",
    "    Extracts the origin section from the given text using start \n",
    "    and end regex patterns.\n",
    "    \"\"\"\n",
    "    start_match = re.search( start_pattern, text )\n",
    "    end_match   = re.search( end_pattern, text )\n",
    "    if start_match and end_match:\n",
    "        return text[ start_match.end() : end_match.start() ].strip()\n",
    "        \n",
    "    return None\n",
    "\n",
    "def process_reports( base_path, start_pattern, end_pattern ):\n",
    "    \"\"\"\n",
    "    Processes each report in the base_path to extract the origin section \n",
    "    and store in a DataFrame.\n",
    "    \"\"\"\n",
    "    reports = []\n",
    "    for folder in os.listdir( base_path ):\n",
    "        folder_path = os.path.join( base_path, folder )\n",
    "        \n",
    "        if os.path.isdir( folder_path ):\n",
    "            page_path = os.path.join( folder_path, 'page_3.txt ')\n",
    "            \n",
    "            if os.path.exists( page_path ):\n",
    "                with open(page_path, 'r', encoding='utf-8') as file:\n",
    "                    text = file.read()\n",
    "                    origin_section = find_origin_section( text, start_pattern, end_pattern )\n",
    "                    reports.append( { 'Report Name': folder, 'Origin Section': origin_section } )\n",
    "    \n",
    "    return pd.DataFrame( reports )"
   ]
  },
  {
   "cell_type": "markdown",
   "id": "5ab16cea-9d1c-4187-9e6d-1c6b9e1f90fc",
   "metadata": {},
   "source": [
    "# Code"
   ]
  },
  {
   "cell_type": "code",
   "execution_count": 6,
   "id": "f68ab0f7-b9f7-4eb0-8610-4dc21bd7af9b",
   "metadata": {},
   "outputs": [],
   "source": [
    "def pdf_to_text(pdf_path):\n",
    "    ''' \n",
    "    Objective:\n",
    "        This functions transforms a pdf to a text where we can apply text information retrieval\n",
    "\n",
    "    Input: \n",
    "        pdf_path (str) : The path where the pdf is located, including the pdf name.\n",
    "\n",
    "    Output:\n",
    "        It returns the text of the pdf  \n",
    "    '''    \n",
    "    reader   = PdfReader( pdf_path )\n",
    "    n_pages  = len( reader.pages )\n",
    "    print( f'Number of pages: { n_pages }' )\n",
    "\n",
    "    try:\n",
    "        extracted_text = [ reader.pages[ i ].extract_text() for i in range( n_pages ) ]\n",
    "        print( 'Text successfully extracted' )\n",
    "    \n",
    "    except:\n",
    "        extracted_text = []\n",
    "        print( 'Text not found' )\n",
    "\n",
    "\n",
    "    combined_text = '\\n'.join( extracted_text )\n",
    "\n",
    "\n",
    "    return combined_text    "
   ]
  },
  {
   "cell_type": "code",
   "execution_count": 7,
   "id": "2985e816-ab19-49b2-af1a-72b13057f67b",
   "metadata": {},
   "outputs": [],
   "source": [
    "def ocr_mivivienda( combined_text , start_pattern , end_pattern):\n",
    "    '''\n",
    "    Objective:\n",
    "        This function takes a text and extracts the patter indicated by the start_patter and end_patter inputs.\n",
    "    \n",
    "    Input:\n",
    "        combined_text (str) : The text where we can extract information.\n",
    "\n",
    "        start_pattern (str) : The starting pattern.\n",
    "\n",
    "        end_pattern (str) : The ending pattern.\n",
    "    '''      \n",
    "    start_match   = re.search( start_pattern, combined_text, re.IGNORECASE )\n",
    "    end_match     = re.search( end_pattern, combined_text[ start_match.end(): ], re.IGNORECASE )\n",
    "    \n",
    "    end_index     = start_match.end() + end_match.start()\n",
    "    article_text  = combined_text[ start_match.end(): end_index ].strip()\n",
    "\n",
    "    article_text = article_text.split('\\n')\n",
    "    \n",
    "    return article_text   \n",
    "    "
   ]
  },
  {
   "cell_type": "markdown",
   "id": "0746ddd1-23ae-4338-8110-48fff7d3d0c5",
   "metadata": {},
   "source": [
    "We try both functions with one text"
   ]
  },
  {
   "cell_type": "code",
   "execution_count": 32,
   "id": "e0875585-e95c-4295-93a7-65643c5d0d12",
   "metadata": {},
   "outputs": [
    {
     "name": "stdout",
     "output_type": "stream",
     "text": [
      "Number of pages: 15\n",
      "Text successfully extracted\n"
     ]
    },
    {
     "data": {
      "text/plain": [
       "'\"Decenio de la Igualdad de oportunidades para mujeres y hombres\" \\n“Año  del Fortalecimiento de la Soberanía Nacional”  \\n \\n \\n \\n \\nSan Isidro, 08 de febrero de 2022 \\n \\nOFICIO Nº 047-2022-VIVIENDA/VMVU-DGPRVU \\n \\n \\nArquitecta \\nLOURDES GIUSTI HUNDSKOPF \\nDecana Regional Lima \\nColegio de Arquitectos del Perú \\nAv. San Felipe N° 999 \\nJesús María . - \\n \\nAsunto:   Opinión vinculante sobre la altura de edificación generada por colindancia, \\nconsolidación, compensación y por ubicarse el lote en esquina, de acuerdo \\na lo regulado en el artículo 10 de la Norma Técnica A.010, Condiciones \\ngenerales de diseño del Reglamento Nacional de Edificaciones \\n \\nReferencia: H.T. N° 00014371 -2022 \\n \\nPor medio del presente me dirijo a usted con la finalidad de remitir opinión vincul ante sobre \\nla aplicación de la altura de edificación generada por colindancia, consolidación, \\ncompensación y por ubicarse el lote en esquina, señaladas en el artículo 10 de la N orma \\nTécnica A.010, Condiciones generales de diseño de'"
      ]
     },
     "execution_count": 32,
     "metadata": {},
     "output_type": "execute_result"
    }
   ],
   "source": [
    "text_mivivienda = pdf_to_text('../OCR proposal/files/ITL N° 003-2022-VIVIENDA_VMVU-DGPRVU-DV-JLHP-KCG.pdf')\n",
    "text_mivivienda[:1000]"
   ]
  },
  {
   "cell_type": "code",
   "execution_count": 33,
   "id": "bf0bd0f1-93a7-4456-bc95-6cc4ffbecbd0",
   "metadata": {},
   "outputs": [
    {
     "data": {
      "text/plain": [
       "[':  ',\n",
       " ' ',\n",
       " '4.1. El RNE es la norma técnica de cumplimiento obligatorio por todas las entidade s ',\n",
       " 'públicas, así como por las personas naturales y jurídicas de derecho público y privado ',\n",
       " 'que proyecten o ejecuten habilitaciones urbanas y edificaciones en el territori o ',\n",
       " 'nacional, al ser el único marco técnico normativo que establece los criterios y ',\n",
       " 'requisitos mínimos para el diseño y la ejecución de proyectos de habilitación urbana ',\n",
       " 'y/o de edificaciones. ',\n",
       " ' ',\n",
       " '4.2. El Certificado de Parámetros Urbanísticos y Edificatorios es el documento previo ',\n",
       " 'emitido por las municipalidades, donde se especifican los parámetros urbanísticos y ',\n",
       " 'edificatorios de diseño que regula el proceso de edificación sobre un predio urbano; ',\n",
       " 'el cual contiene, entre otros, la altura máxima y mínima de edificación expresada en ',\n",
       " 'metros. Sin embargo, en caso la altura se encuentra indicada en pisos, corresponde ',\n",
       " 'la aplicación de lo establecido en el numeral 10.1 del artículo 10 de la Norma Técnica ',\n",
       " 'A.010 del RNE para convertir dicha altura a metros lineales, teniendo en cue nta que ',\n",
       " 'el nivel del primer piso puede ubicarse sobre el semisótano, cuya altura 1.50m debe ',\n",
       " 'contabilizarse adicionalmente como parte de la altura máxima de edificación en ',\n",
       " 'metros lineales. ',\n",
       " ' ',\n",
       " '4.3. En un proyecto se puede desarrollar igual o mayor número de pisos a los establecidos ',\n",
       " 'en los parámetros urbanísticos y edificatorios siempre que la altura de edificación no ',\n",
       " 'supere la altura máxima resultante en metros lineales y siempre que cumpla con l os ',\n",
       " 'demás parámetros aplicables al predio materia del proyecto. ',\n",
       " ' ',\n",
       " '4.4. La altura de edificación se mide en metros lineales y se mide desde el punto más  alto ',\n",
       " 'de la vereda del frente del lote; en caso no exista vereda, se mide desde el nivel de ',\n",
       " 'calzada más 0.15 m. Además la altura incluye los pisos retranqueados. No se ',\n",
       " 'contabilizan paramentos verticales para recubrimientos de equipos en el último ni vel, ',\n",
       " 'parapetos y construcciones en azoteas, tanques elevados, cuartos de máquinas, ni ',\n",
       " 'casetas de equipos electromecánicos. ',\n",
       " ' ',\n",
       " '4.5. El artículo 10 de la Norma Técnica A.010, del RNE, contempla que un pre dio puede ',\n",
       " 'adquirir la condición adicional para construir sobre la altura normativa cuando se  ',\n",
       " 'generen por colindancia, por consolidación, por compensación o por ubicarse el lote ',\n",
       " 'en esquina; estos criterios tienen como finalidad homogenizar el perfil urbano ',\n",
       " 'preexistente de la ciudad, estos aspectos están regulados en relación de las ',\n",
       " 'características urbanísticas del entorno por el cual las edificaciones han ido ',\n",
       " 'consolidando el perfil urbano de la ciudad. ',\n",
       " ' ',\n",
       " '4.6. La altura generada por consolidación, tiene dos condiciones previas para adquirir un a ',\n",
       " 'altura mayor a la normativa: (I) que el predio materia de edificación se ubique en una ',\n",
       " 'manzana consolidada, y (II) que la altura del 50% de los edificios preexisten tes en el ',\n",
       " 'frente de la manzana tengan una altura mayor al predio materia de edificación. ',\n",
       " 'Cumpliendo estas dos condiciones previas, se puede edificar hasta la altura promedio ',\n",
       " 'de los edificios preexistentes, siempre que no supere el 50% de la diferencia de ',\n",
       " 'ambas alturas; es decir que el predio materia de edificación no debe superar la altura ',\n",
       " 'MVCS',\n",
       " 'Por: CACERES GARBO Karem Janeth FAU',\n",
       " '20504743307 soft',\n",
       " 'Motivo: Doy V° B°',\n",
       " 'Fecha: 2022/02/07 17:36:54-0500',\n",
       " 'MVCS',\n",
       " 'Por: HILARIO PINTO Jorge Luis FAU',\n",
       " '20504743307 soft',\n",
       " 'Motivo: Doy V° B°',\n",
       " 'Fecha: 2022/02/07 18:31:55-0500',\n",
       " ' ',\n",
       " 'Página 13 de 13 ',\n",
       " ' ',\n",
       " 'adquirida por colindancia que resultó del cálculo de promediar entre la altura  ',\n",
       " 'normativa y la altura promedio de los predios que superan la altura normativa. ',\n",
       " ' ',\n",
       " '4.7. La Norma Técnica A.010 del RNE establece que las Municipalidades puedan regular ',\n",
       " 'instrumentos normativos para otorgar una mayor altura a la altura normativa regulada ',\n",
       " 'sobre un predio materia de edificación a través de compensaciones, estas pueden ',\n",
       " 'ser sin la necesidad de que se generen por colindancia, consolidación o por ubicarse ',\n",
       " 'el lote en esquina, siempre que se obtenga a cambio áreas de uso público, áreas ',\n",
       " 'para el desarrollo de actividades recreativas, sean activas y/o pasivas, u otras , en ',\n",
       " 'función a la necesidad del entorno urbano. ',\n",
       " ' ',\n",
       " '4.8. Los gráficos establecidos en el presente documento son referenciales y no se ',\n",
       " 'orientan a casos particulares, sino a la interpretación técnica de la normativa que ',\n",
       " 'regula las condiciones generales de diseño del Reglamento Nacional de ',\n",
       " 'Edificaciones.']"
      ]
     },
     "execution_count": 33,
     "metadata": {},
     "output_type": "execute_result"
    }
   ],
   "source": [
    "ocr_mivivienda( text_mivivienda, r'IV. CONCLUSIONES', r'Atentamente,')"
   ]
  },
  {
   "cell_type": "markdown",
   "id": "cd417ff3-d0d9-42da-9c57-b8084917cd32",
   "metadata": {},
   "source": [
    "Now we try both functions with the the pdfs the files path"
   ]
  },
  {
   "cell_type": "code",
   "execution_count": 22,
   "id": "a19f983a-ce22-44cf-8aea-293401c297d8",
   "metadata": {},
   "outputs": [
    {
     "name": "stdout",
     "output_type": "stream",
     "text": [
      "Number of pages: 15\n",
      "Text successfully extracted\n",
      "Number of pages: 22\n",
      "Text successfully extracted\n",
      "Number of pages: 15\n",
      "Text successfully extracted\n",
      "Number of pages: 20\n",
      "Text successfully extracted\n",
      "ITL N° 068-2019-VIVIENDA_VMVU-DGPRVU-DV-JJLL-KCG is not a file\n",
      "scanned is not a file\n",
      "text is not a file\n"
     ]
    }
   ],
   "source": [
    "folder_path = '../OCR proposal/files'\n",
    "\n",
    "data_dict = {'Filename': [], 'List_PDF': []}\n",
    "\n",
    "for filename in os.listdir(folder_path):\n",
    "    file_path = os.path.join(folder_path, filename)\n",
    "\n",
    "    try:\n",
    "        file_pdf = pdf_to_text(file_path)\n",
    "\n",
    "    except:\n",
    "        print(f'{filename} is not a file')\n",
    "        continue        \n",
    "\n",
    "    list_pdf = ocr_mivivienda( file_pdf, r'IV. CONCLUSIONES', r'Atentamente,')\n",
    "\n",
    "    data_dict['Filename'].append(filename)\n",
    "    data_dict['List_PDF'].append(list_pdf)\n",
    "\n",
    "final_dataframe = pd.DataFrame(data_dict)"
   ]
  },
  {
   "cell_type": "code",
   "execution_count": 23,
   "id": "cc0f1101-ff9d-49ac-98ac-6a14022d33e5",
   "metadata": {},
   "outputs": [
    {
     "data": {
      "text/html": [
       "<div>\n",
       "<style scoped>\n",
       "    .dataframe tbody tr th:only-of-type {\n",
       "        vertical-align: middle;\n",
       "    }\n",
       "\n",
       "    .dataframe tbody tr th {\n",
       "        vertical-align: top;\n",
       "    }\n",
       "\n",
       "    .dataframe thead th {\n",
       "        text-align: right;\n",
       "    }\n",
       "</style>\n",
       "<table border=\"1\" class=\"dataframe\">\n",
       "  <thead>\n",
       "    <tr style=\"text-align: right;\">\n",
       "      <th></th>\n",
       "      <th>Filename</th>\n",
       "      <th>List_PDF</th>\n",
       "    </tr>\n",
       "  </thead>\n",
       "  <tbody>\n",
       "    <tr>\n",
       "      <th>0</th>\n",
       "      <td>ITL N° 003-2022-VIVIENDA_VMVU-DGPRVU-DV-JLHP-K...</td>\n",
       "      <td>[:  ,  , 4.1. El RNE es la norma técnica de cu...</td>\n",
       "    </tr>\n",
       "    <tr>\n",
       "      <th>1</th>\n",
       "      <td>ITL N° 004-2022-VIVIENDA_VMVU-DGPRVU-DV-JJLL-J...</td>\n",
       "      <td>[ De acuerdo con el principio de predictibili...</td>\n",
       "    </tr>\n",
       "    <tr>\n",
       "      <th>2</th>\n",
       "      <td>ITL N° 034-2022-VIVIENDA_VMVU-DGPRVU-DV-EMJ-JL...</td>\n",
       "      <td>[: ,  , 4.1 El literal c) del artículo 36 de l...</td>\n",
       "    </tr>\n",
       "    <tr>\n",
       "      <th>3</th>\n",
       "      <td>ITL N° 063-2023-VIVIENDA_VMVU-DGPRVU-DV-JJLL-K...</td>\n",
       "      <td>[Sin perjuicio de las aclaraciones que el Trib...</td>\n",
       "    </tr>\n",
       "  </tbody>\n",
       "</table>\n",
       "</div>"
      ],
      "text/plain": [
       "                                            Filename  \\\n",
       "0  ITL N° 003-2022-VIVIENDA_VMVU-DGPRVU-DV-JLHP-K...   \n",
       "1  ITL N° 004-2022-VIVIENDA_VMVU-DGPRVU-DV-JJLL-J...   \n",
       "2  ITL N° 034-2022-VIVIENDA_VMVU-DGPRVU-DV-EMJ-JL...   \n",
       "3  ITL N° 063-2023-VIVIENDA_VMVU-DGPRVU-DV-JJLL-K...   \n",
       "\n",
       "                                            List_PDF  \n",
       "0  [:  ,  , 4.1. El RNE es la norma técnica de cu...  \n",
       "1  [ De acuerdo con el principio de predictibili...  \n",
       "2  [: ,  , 4.1 El literal c) del artículo 36 de l...  \n",
       "3  [Sin perjuicio de las aclaraciones que el Trib...  "
      ]
     },
     "execution_count": 23,
     "metadata": {},
     "output_type": "execute_result"
    }
   ],
   "source": [
    "final_dataframe"
   ]
  },
  {
   "cell_type": "code",
   "execution_count": 24,
   "id": "1266d961-8ee2-49f2-bbd2-ab3ae6c516f2",
   "metadata": {},
   "outputs": [],
   "source": [
    "final_dataframe.to_excel('MiVivienda.xlsx')"
   ]
  },
  {
   "cell_type": "markdown",
   "id": "37184d0b-f587-44ba-bf23-15492641a6e8",
   "metadata": {},
   "source": [
    "We can also try with scanned documents"
   ]
  },
  {
   "cell_type": "code",
   "execution_count": 25,
   "id": "b54f950d-0294-4599-92a5-ba86a175f66b",
   "metadata": {},
   "outputs": [],
   "source": [
    "input_path  = '../OCR proposal/files/scanned/ITL N° 068-2019-VIVIENDA_VMVU-DGPRVU-DV-JJLL-KCG.pdf'\n",
    "output_path = '../OCR proposal/files/'\n",
    "page_ranges = '1-11'"
   ]
  },
  {
   "cell_type": "code",
   "execution_count": 26,
   "id": "3c1a7f1d-66fe-4aef-909d-06b0aa3653ed",
   "metadata": {},
   "outputs": [],
   "source": [
    "convert_pdf_to_images( input_path, output_path, page_ranges )"
   ]
  },
  {
   "cell_type": "code",
   "execution_count": 27,
   "id": "70200745-474d-4910-9a9e-7991e3140e58",
   "metadata": {},
   "outputs": [],
   "source": [
    "input_path  = '../OCR proposal/files/ITL N° 068-2019-VIVIENDA_VMVU-DGPRVU-DV-JJLL-KCG/'\n",
    "output_path = '../OCR proposal/files/text'\n",
    "lang        = 'spa'"
   ]
  },
  {
   "cell_type": "code",
   "execution_count": 28,
   "id": "77e7fd02-facd-4d9b-bfcb-cc3c2266dc38",
   "metadata": {},
   "outputs": [],
   "source": [
    "convert_images_to_text( input_path, output_path, lang )"
   ]
  },
  {
   "cell_type": "code",
   "execution_count": 29,
   "id": "55f438eb-d1eb-4080-aa69-ac54a880be0f",
   "metadata": {},
   "outputs": [],
   "source": [
    "base_path     = '../OCR proposal/files/text'\n",
    "start_pattern = r'CONCLUSIONES:'\n",
    "end_pattern   = r'29090'\n",
    "df            = process_reports( base_path, start_pattern, end_pattern )"
   ]
  },
  {
   "cell_type": "code",
   "execution_count": 18,
   "id": "92a5a39b-7fc4-491d-baf0-81894d1803e0",
   "metadata": {},
   "outputs": [
    {
     "data": {
      "text/html": [
       "<div>\n",
       "<style scoped>\n",
       "    .dataframe tbody tr th:only-of-type {\n",
       "        vertical-align: middle;\n",
       "    }\n",
       "\n",
       "    .dataframe tbody tr th {\n",
       "        vertical-align: top;\n",
       "    }\n",
       "\n",
       "    .dataframe thead th {\n",
       "        text-align: right;\n",
       "    }\n",
       "</style>\n",
       "<table border=\"1\" class=\"dataframe\">\n",
       "  <thead>\n",
       "    <tr style=\"text-align: right;\">\n",
       "      <th></th>\n",
       "      <th>Report Name</th>\n",
       "      <th>Origin Section</th>\n",
       "    </tr>\n",
       "  </thead>\n",
       "  <tbody>\n",
       "    <tr>\n",
       "      <th>0</th>\n",
       "      <td>ITL N° 068-2019-VIVIENDA_VMVU-DGPRVU-DV-JJLL-KCG</td>\n",
       "      <td>None</td>\n",
       "    </tr>\n",
       "  </tbody>\n",
       "</table>\n",
       "</div>"
      ],
      "text/plain": [
       "                                        Report Name Origin Section\n",
       "0  ITL N° 068-2019-VIVIENDA_VMVU-DGPRVU-DV-JJLL-KCG           None"
      ]
     },
     "execution_count": 18,
     "metadata": {},
     "output_type": "execute_result"
    }
   ],
   "source": [
    "df  "
   ]
  },
  {
   "cell_type": "code",
   "execution_count": null,
   "id": "891e8cab-b524-47db-a862-a0edf5f04f91",
   "metadata": {},
   "outputs": [],
   "source": []
  }
 ],
 "metadata": {
  "kernelspec": {
   "display_name": "Python 3 (ipykernel)",
   "language": "python",
   "name": "python3"
  },
  "language_info": {
   "codemirror_mode": {
    "name": "ipython",
    "version": 3
   },
   "file_extension": ".py",
   "mimetype": "text/x-python",
   "name": "python",
   "nbconvert_exporter": "python",
   "pygments_lexer": "ipython3",
   "version": "3.11.4"
  }
 },
 "nbformat": 4,
 "nbformat_minor": 5
}
